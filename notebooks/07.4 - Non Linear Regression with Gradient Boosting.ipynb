{
 "cells": [
  {
   "cell_type": "code",
   "execution_count": null,
   "id": "e7273394-b106-415e-b923-b8ac911b4d3b",
   "metadata": {},
   "outputs": [],
   "source": [
    "import numpy as np\n",
    "from sklearn.ensemble import GradientBoostingRegressor\n",
    "from sklearn.model_selection import GridSearchCV\n",
    "from sklearn.metrics import r2_score, mean_squared_error\n",
    "import pickle"
   ]
  },
  {
   "cell_type": "code",
   "execution_count": null,
   "id": "5c8c8897-7ff9-42a7-955f-d9b6e4651843",
   "metadata": {},
   "outputs": [],
   "source": [
    "X = np.load(\"../data/X_train_scaled.npy\", allow_pickle=True)\n",
    "y = np.load(\"../data/y_train_scaled.npy\", allow_pickle=True)"
   ]
  },
  {
   "cell_type": "code",
   "execution_count": null,
   "id": "f699cb19-cc74-4c54-a6ca-1c8eda6ae335",
   "metadata": {},
   "outputs": [
    {
     "name": "stdout",
     "output_type": "stream",
     "text": [
      "X shape: (3104579, 26)\n",
      "y shape: (3104579, 1)\n"
     ]
    }
   ],
   "source": [
    "print(\"X shape:\", X.shape)\n",
    "print(\"y shape:\", y.shape)"
   ]
  },
  {
   "cell_type": "code",
   "execution_count": null,
   "id": "63d2a9da-2d65-4267-8c72-a8d2eaa54a97",
   "metadata": {},
   "outputs": [],
   "source": [
    "gb = GradientBoostingRegressor()"
   ]
  },
  {
   "cell_type": "code",
   "execution_count": null,
   "id": "6fadaf14-56b2-4daa-90d1-fb6913d0c82f",
   "metadata": {},
   "outputs": [],
   "source": [
    "param_grid = {\n",
    "    \"learning_rate\": [0.05, 0.1],\n",
    "    \"n_estimators\": [5, 50],\n",
    "    \"subsample\": [0.8, 1]\n",
    "}"
   ]
  },
  {
   "cell_type": "code",
   "execution_count": null,
   "id": "27d4a3e2-c00b-4cb9-bca2-e9d52b746e86",
   "metadata": {},
   "outputs": [],
   "source": [
    "grid_search = GridSearchCV(\n",
    "    gb,\n",
    "    param_grid,\n",
    "    scoring=\"neg_mean_squared_error\",\n",
    "    cv=10,\n",
    "    verbose=10\n",
    ")"
   ]
  },
  {
   "cell_type": "code",
   "execution_count": null,
   "id": "d9e69e83-4e57-4157-8b8c-7c1282f7ab10",
   "metadata": {},
   "outputs": [],
   "source": [
    "y = y.ravel()"
   ]
  },
  {
   "cell_type": "code",
   "execution_count": null,
   "id": "8d7c1302-7ee2-4992-9554-7518fb0cb453",
   "metadata": {},
   "outputs": [
    {
     "name": "stdout",
     "output_type": "stream",
     "text": [
      "Fitting 10 folds for each of 8 candidates, totalling 80 fits\n",
      "[CV 1/10; 1/8] START learning_rate=0.05, n_estimators=5, subsample=0.8..........\n",
      "[CV 1/10; 1/8] END learning_rate=0.05, n_estimators=5, subsample=0.8;, score=-1.006 total time=  43.3s\n",
      "[CV 2/10; 1/8] START learning_rate=0.05, n_estimators=5, subsample=0.8..........\n",
      "[CV 2/10; 1/8] END learning_rate=0.05, n_estimators=5, subsample=0.8;, score=-0.813 total time=  43.6s\n",
      "[CV 3/10; 1/8] START learning_rate=0.05, n_estimators=5, subsample=0.8..........\n",
      "[CV 3/10; 1/8] END learning_rate=0.05, n_estimators=5, subsample=0.8;, score=-0.812 total time=  43.8s\n",
      "[CV 4/10; 1/8] START learning_rate=0.05, n_estimators=5, subsample=0.8..........\n",
      "[CV 4/10; 1/8] END learning_rate=0.05, n_estimators=5, subsample=0.8;, score=-0.699 total time=  44.0s\n",
      "[CV 5/10; 1/8] START learning_rate=0.05, n_estimators=5, subsample=0.8..........\n",
      "[CV 5/10; 1/8] END learning_rate=0.05, n_estimators=5, subsample=0.8;, score=-0.768 total time=  43.7s\n",
      "[CV 6/10; 1/8] START learning_rate=0.05, n_estimators=5, subsample=0.8..........\n",
      "[CV 6/10; 1/8] END learning_rate=0.05, n_estimators=5, subsample=0.8;, score=-1.091 total time=  43.3s\n",
      "[CV 7/10; 1/8] START learning_rate=0.05, n_estimators=5, subsample=0.8..........\n",
      "[CV 7/10; 1/8] END learning_rate=0.05, n_estimators=5, subsample=0.8;, score=-0.802 total time=  44.6s\n",
      "[CV 8/10; 1/8] START learning_rate=0.05, n_estimators=5, subsample=0.8..........\n",
      "[CV 8/10; 1/8] END learning_rate=0.05, n_estimators=5, subsample=0.8;, score=-0.969 total time=  46.4s\n",
      "[CV 9/10; 1/8] START learning_rate=0.05, n_estimators=5, subsample=0.8..........\n",
      "[CV 9/10; 1/8] END learning_rate=0.05, n_estimators=5, subsample=0.8;, score=-1.017 total time=  46.3s\n",
      "[CV 10/10; 1/8] START learning_rate=0.05, n_estimators=5, subsample=0.8.........\n",
      "[CV 10/10; 1/8] END learning_rate=0.05, n_estimators=5, subsample=0.8;, score=-1.002 total time=  46.3s\n",
      "[CV 1/10; 2/8] START learning_rate=0.05, n_estimators=5, subsample=1............\n",
      "[CV 1/10; 2/8] END learning_rate=0.05, n_estimators=5, subsample=1;, score=-1.006 total time=  56.2s\n",
      "[CV 2/10; 2/8] START learning_rate=0.05, n_estimators=5, subsample=1............\n",
      "[CV 2/10; 2/8] END learning_rate=0.05, n_estimators=5, subsample=1;, score=-0.814 total time=  56.4s\n",
      "[CV 3/10; 2/8] START learning_rate=0.05, n_estimators=5, subsample=1............\n",
      "[CV 3/10; 2/8] END learning_rate=0.05, n_estimators=5, subsample=1;, score=-0.812 total time=  56.8s\n",
      "[CV 4/10; 2/8] START learning_rate=0.05, n_estimators=5, subsample=1............\n",
      "[CV 4/10; 2/8] END learning_rate=0.05, n_estimators=5, subsample=1;, score=-0.699 total time=  57.1s\n",
      "[CV 5/10; 2/8] START learning_rate=0.05, n_estimators=5, subsample=1............\n",
      "[CV 5/10; 2/8] END learning_rate=0.05, n_estimators=5, subsample=1;, score=-0.769 total time=  56.6s\n",
      "[CV 6/10; 2/8] START learning_rate=0.05, n_estimators=5, subsample=1............\n",
      "[CV 6/10; 2/8] END learning_rate=0.05, n_estimators=5, subsample=1;, score=-1.092 total time=  56.6s\n",
      "[CV 7/10; 2/8] START learning_rate=0.05, n_estimators=5, subsample=1............\n",
      "[CV 7/10; 2/8] END learning_rate=0.05, n_estimators=5, subsample=1;, score=-0.802 total time=  56.5s\n",
      "[CV 8/10; 2/8] START learning_rate=0.05, n_estimators=5, subsample=1............\n",
      "[CV 8/10; 2/8] END learning_rate=0.05, n_estimators=5, subsample=1;, score=-0.970 total time=  55.7s\n",
      "[CV 9/10; 2/8] START learning_rate=0.05, n_estimators=5, subsample=1............\n",
      "[CV 9/10; 2/8] END learning_rate=0.05, n_estimators=5, subsample=1;, score=-1.017 total time=  56.2s\n",
      "[CV 10/10; 2/8] START learning_rate=0.05, n_estimators=5, subsample=1...........\n",
      "[CV 10/10; 2/8] END learning_rate=0.05, n_estimators=5, subsample=1;, score=-1.002 total time=  55.7s\n",
      "[CV 1/10; 3/8] START learning_rate=0.05, n_estimators=50, subsample=0.8.........\n",
      "[CV 1/10; 3/8] END learning_rate=0.05, n_estimators=50, subsample=0.8;, score=-0.674 total time= 7.7min\n",
      "[CV 2/10; 3/8] START learning_rate=0.05, n_estimators=50, subsample=0.8.........\n",
      "[CV 2/10; 3/8] END learning_rate=0.05, n_estimators=50, subsample=0.8;, score=-0.512 total time= 8.0min\n",
      "[CV 3/10; 3/8] START learning_rate=0.05, n_estimators=50, subsample=0.8.........\n",
      "[CV 3/10; 3/8] END learning_rate=0.05, n_estimators=50, subsample=0.8;, score=-0.435 total time= 8.6min\n",
      "[CV 4/10; 3/8] START learning_rate=0.05, n_estimators=50, subsample=0.8.........\n",
      "[CV 4/10; 3/8] END learning_rate=0.05, n_estimators=50, subsample=0.8;, score=-0.383 total time= 8.7min\n",
      "[CV 5/10; 3/8] START learning_rate=0.05, n_estimators=50, subsample=0.8.........\n",
      "[CV 5/10; 3/8] END learning_rate=0.05, n_estimators=50, subsample=0.8;, score=-0.451 total time= 8.6min\n",
      "[CV 6/10; 3/8] START learning_rate=0.05, n_estimators=50, subsample=0.8.........\n",
      "[CV 6/10; 3/8] END learning_rate=0.05, n_estimators=50, subsample=0.8;, score=-0.672 total time= 8.6min\n",
      "[CV 7/10; 3/8] START learning_rate=0.05, n_estimators=50, subsample=0.8.........\n",
      "[CV 7/10; 3/8] END learning_rate=0.05, n_estimators=50, subsample=0.8;, score=-0.501 total time= 8.5min\n",
      "[CV 8/10; 3/8] START learning_rate=0.05, n_estimators=50, subsample=0.8.........\n",
      "[CV 8/10; 3/8] END learning_rate=0.05, n_estimators=50, subsample=0.8;, score=-0.605 total time= 8.5min\n",
      "[CV 9/10; 3/8] START learning_rate=0.05, n_estimators=50, subsample=0.8.........\n",
      "[CV 9/10; 3/8] END learning_rate=0.05, n_estimators=50, subsample=0.8;, score=-0.651 total time= 8.2min\n",
      "[CV 10/10; 3/8] START learning_rate=0.05, n_estimators=50, subsample=0.8........\n",
      "[CV 10/10; 3/8] END learning_rate=0.05, n_estimators=50, subsample=0.8;, score=-0.644 total time= 8.4min\n",
      "[CV 1/10; 4/8] START learning_rate=0.05, n_estimators=50, subsample=1...........\n",
      "[CV 1/10; 4/8] END learning_rate=0.05, n_estimators=50, subsample=1;, score=-0.672 total time=10.3min\n",
      "[CV 2/10; 4/8] START learning_rate=0.05, n_estimators=50, subsample=1...........\n",
      "[CV 2/10; 4/8] END learning_rate=0.05, n_estimators=50, subsample=1;, score=-0.512 total time=10.3min\n",
      "[CV 3/10; 4/8] START learning_rate=0.05, n_estimators=50, subsample=1...........\n",
      "[CV 3/10; 4/8] END learning_rate=0.05, n_estimators=50, subsample=1;, score=-0.440 total time=10.4min\n",
      "[CV 4/10; 4/8] START learning_rate=0.05, n_estimators=50, subsample=1...........\n",
      "[CV 4/10; 4/8] END learning_rate=0.05, n_estimators=50, subsample=1;, score=-0.382 total time=10.4min\n",
      "[CV 5/10; 4/8] START learning_rate=0.05, n_estimators=50, subsample=1...........\n",
      "[CV 5/10; 4/8] END learning_rate=0.05, n_estimators=50, subsample=1;, score=-0.449 total time=10.4min\n",
      "[CV 6/10; 4/8] START learning_rate=0.05, n_estimators=50, subsample=1...........\n",
      "[CV 6/10; 4/8] END learning_rate=0.05, n_estimators=50, subsample=1;, score=-0.673 total time=10.4min\n",
      "[CV 7/10; 4/8] START learning_rate=0.05, n_estimators=50, subsample=1...........\n",
      "[CV 7/10; 4/8] END learning_rate=0.05, n_estimators=50, subsample=1;, score=-0.499 total time=10.4min\n",
      "[CV 8/10; 4/8] START learning_rate=0.05, n_estimators=50, subsample=1...........\n",
      "[CV 8/10; 4/8] END learning_rate=0.05, n_estimators=50, subsample=1;, score=-0.603 total time=10.6min\n",
      "[CV 9/10; 4/8] START learning_rate=0.05, n_estimators=50, subsample=1...........\n",
      "[CV 9/10; 4/8] END learning_rate=0.05, n_estimators=50, subsample=1;, score=-0.649 total time=10.5min\n",
      "[CV 10/10; 4/8] START learning_rate=0.05, n_estimators=50, subsample=1..........\n",
      "[CV 10/10; 4/8] END learning_rate=0.05, n_estimators=50, subsample=1;, score=-0.643 total time=10.5min\n",
      "[CV 1/10; 5/8] START learning_rate=0.1, n_estimators=5, subsample=0.8...........\n",
      "[CV 1/10; 5/8] END learning_rate=0.1, n_estimators=5, subsample=0.8;, score=-0.929 total time=  52.1s\n",
      "[CV 2/10; 5/8] START learning_rate=0.1, n_estimators=5, subsample=0.8...........\n",
      "[CV 2/10; 5/8] END learning_rate=0.1, n_estimators=5, subsample=0.8;, score=-0.734 total time=  52.5s\n",
      "[CV 3/10; 5/8] START learning_rate=0.1, n_estimators=5, subsample=0.8...........\n",
      "[CV 3/10; 5/8] END learning_rate=0.1, n_estimators=5, subsample=0.8;, score=-0.719 total time=  52.8s\n",
      "[CV 4/10; 5/8] START learning_rate=0.1, n_estimators=5, subsample=0.8...........\n",
      "[CV 4/10; 5/8] END learning_rate=0.1, n_estimators=5, subsample=0.8;, score=-0.615 total time=  52.7s\n",
      "[CV 5/10; 5/8] START learning_rate=0.1, n_estimators=5, subsample=0.8...........\n",
      "[CV 5/10; 5/8] END learning_rate=0.1, n_estimators=5, subsample=0.8;, score=-0.678 total time=  53.1s\n",
      "[CV 6/10; 5/8] START learning_rate=0.1, n_estimators=5, subsample=0.8...........\n",
      "[CV 6/10; 5/8] END learning_rate=0.1, n_estimators=5, subsample=0.8;, score=-0.994 total time=  52.1s\n",
      "[CV 7/10; 5/8] START learning_rate=0.1, n_estimators=5, subsample=0.8...........\n",
      "[CV 7/10; 5/8] END learning_rate=0.1, n_estimators=5, subsample=0.8;, score=-0.721 total time=  53.0s\n",
      "[CV 8/10; 5/8] START learning_rate=0.1, n_estimators=5, subsample=0.8...........\n",
      "[CV 8/10; 5/8] END learning_rate=0.1, n_estimators=5, subsample=0.8;, score=-0.885 total time=  52.6s\n",
      "[CV 9/10; 5/8] START learning_rate=0.1, n_estimators=5, subsample=0.8...........\n",
      "[CV 9/10; 5/8] END learning_rate=0.1, n_estimators=5, subsample=0.8;, score=-0.933 total time=  53.1s\n",
      "[CV 10/10; 5/8] START learning_rate=0.1, n_estimators=5, subsample=0.8..........\n",
      "[CV 10/10; 5/8] END learning_rate=0.1, n_estimators=5, subsample=0.8;, score=-0.920 total time=  52.4s\n",
      "[CV 1/10; 6/8] START learning_rate=0.1, n_estimators=5, subsample=1.............\n",
      "[CV 1/10; 6/8] END learning_rate=0.1, n_estimators=5, subsample=1;, score=-0.928 total time= 1.1min\n",
      "[CV 2/10; 6/8] START learning_rate=0.1, n_estimators=5, subsample=1.............\n",
      "[CV 2/10; 6/8] END learning_rate=0.1, n_estimators=5, subsample=1;, score=-0.735 total time= 1.1min\n",
      "[CV 3/10; 6/8] START learning_rate=0.1, n_estimators=5, subsample=1.............\n",
      "[CV 3/10; 6/8] END learning_rate=0.1, n_estimators=5, subsample=1;, score=-0.722 total time= 1.1min\n",
      "[CV 4/10; 6/8] START learning_rate=0.1, n_estimators=5, subsample=1.............\n",
      "[CV 4/10; 6/8] END learning_rate=0.1, n_estimators=5, subsample=1;, score=-0.615 total time= 1.1min\n",
      "[CV 5/10; 6/8] START learning_rate=0.1, n_estimators=5, subsample=1.............\n",
      "[CV 5/10; 6/8] END learning_rate=0.1, n_estimators=5, subsample=1;, score=-0.678 total time= 1.1min\n",
      "[CV 6/10; 6/8] START learning_rate=0.1, n_estimators=5, subsample=1.............\n",
      "[CV 6/10; 6/8] END learning_rate=0.1, n_estimators=5, subsample=1;, score=-0.993 total time= 1.1min\n",
      "[CV 7/10; 6/8] START learning_rate=0.1, n_estimators=5, subsample=1.............\n",
      "[CV 7/10; 6/8] END learning_rate=0.1, n_estimators=5, subsample=1;, score=-0.721 total time= 1.1min\n",
      "[CV 8/10; 6/8] START learning_rate=0.1, n_estimators=5, subsample=1.............\n",
      "[CV 8/10; 6/8] END learning_rate=0.1, n_estimators=5, subsample=1;, score=-0.884 total time= 1.1min\n",
      "[CV 9/10; 6/8] START learning_rate=0.1, n_estimators=5, subsample=1.............\n",
      "[CV 9/10; 6/8] END learning_rate=0.1, n_estimators=5, subsample=1;, score=-0.933 total time= 1.1min\n",
      "[CV 10/10; 6/8] START learning_rate=0.1, n_estimators=5, subsample=1............\n",
      "[CV 10/10; 6/8] END learning_rate=0.1, n_estimators=5, subsample=1;, score=-0.920 total time= 1.1min\n",
      "[CV 1/10; 7/8] START learning_rate=0.1, n_estimators=50, subsample=0.8..........\n",
      "[CV 1/10; 7/8] END learning_rate=0.1, n_estimators=50, subsample=0.8;, score=-0.558 total time= 8.7min\n",
      "[CV 2/10; 7/8] START learning_rate=0.1, n_estimators=50, subsample=0.8..........\n",
      "[CV 2/10; 7/8] END learning_rate=0.1, n_estimators=50, subsample=0.8;, score=-0.414 total time= 8.8min\n",
      "[CV 3/10; 7/8] START learning_rate=0.1, n_estimators=50, subsample=0.8..........\n",
      "[CV 3/10; 7/8] END learning_rate=0.1, n_estimators=50, subsample=0.8;, score=-0.350 total time= 8.9min\n",
      "[CV 4/10; 7/8] START learning_rate=0.1, n_estimators=50, subsample=0.8..........\n",
      "[CV 4/10; 7/8] END learning_rate=0.1, n_estimators=50, subsample=0.8;, score=-0.319 total time= 9.0min\n",
      "[CV 5/10; 7/8] START learning_rate=0.1, n_estimators=50, subsample=0.8..........\n",
      "[CV 5/10; 7/8] END learning_rate=0.1, n_estimators=50, subsample=0.8;, score=-0.369 total time= 8.9min\n",
      "[CV 6/10; 7/8] START learning_rate=0.1, n_estimators=50, subsample=0.8..........\n",
      "[CV 6/10; 7/8] END learning_rate=0.1, n_estimators=50, subsample=0.8;, score=-0.548 total time= 8.9min\n",
      "[CV 7/10; 7/8] START learning_rate=0.1, n_estimators=50, subsample=0.8..........\n",
      "[CV 7/10; 7/8] END learning_rate=0.1, n_estimators=50, subsample=0.8;, score=-0.416 total time= 9.0min\n",
      "[CV 8/10; 7/8] START learning_rate=0.1, n_estimators=50, subsample=0.8..........\n",
      "[CV 8/10; 7/8] END learning_rate=0.1, n_estimators=50, subsample=0.8;, score=-0.487 total time= 8.9min\n",
      "[CV 9/10; 7/8] START learning_rate=0.1, n_estimators=50, subsample=0.8..........\n",
      "[CV 9/10; 7/8] END learning_rate=0.1, n_estimators=50, subsample=0.8;, score=-0.528 total time= 8.9min\n",
      "[CV 10/10; 7/8] START learning_rate=0.1, n_estimators=50, subsample=0.8.........\n",
      "[CV 10/10; 7/8] END learning_rate=0.1, n_estimators=50, subsample=0.8;, score=-0.520 total time= 8.9min\n",
      "[CV 1/10; 8/8] START learning_rate=0.1, n_estimators=50, subsample=1............\n",
      "[CV 1/10; 8/8] END learning_rate=0.1, n_estimators=50, subsample=1;, score=-0.557 total time=10.9min\n",
      "[CV 2/10; 8/8] START learning_rate=0.1, n_estimators=50, subsample=1............\n",
      "[CV 2/10; 8/8] END learning_rate=0.1, n_estimators=50, subsample=1;, score=-0.422 total time=11.0min\n",
      "[CV 3/10; 8/8] START learning_rate=0.1, n_estimators=50, subsample=1............\n",
      "[CV 3/10; 8/8] END learning_rate=0.1, n_estimators=50, subsample=1;, score=-0.344 total time=11.0min\n",
      "[CV 4/10; 8/8] START learning_rate=0.1, n_estimators=50, subsample=1............\n",
      "[CV 4/10; 8/8] END learning_rate=0.1, n_estimators=50, subsample=1;, score=-0.320 total time=11.1min\n",
      "[CV 5/10; 8/8] START learning_rate=0.1, n_estimators=50, subsample=1............\n",
      "[CV 5/10; 8/8] END learning_rate=0.1, n_estimators=50, subsample=1;, score=-0.369 total time=11.3min\n",
      "[CV 6/10; 8/8] START learning_rate=0.1, n_estimators=50, subsample=1............\n",
      "[CV 6/10; 8/8] END learning_rate=0.1, n_estimators=50, subsample=1;, score=-0.544 total time=10.9min\n",
      "[CV 7/10; 8/8] START learning_rate=0.1, n_estimators=50, subsample=1............\n",
      "[CV 7/10; 8/8] END learning_rate=0.1, n_estimators=50, subsample=1;, score=-0.414 total time=11.0min\n",
      "[CV 8/10; 8/8] START learning_rate=0.1, n_estimators=50, subsample=1............\n",
      "[CV 8/10; 8/8] END learning_rate=0.1, n_estimators=50, subsample=1;, score=-0.485 total time=11.0min\n",
      "[CV 9/10; 8/8] START learning_rate=0.1, n_estimators=50, subsample=1............\n",
      "[CV 9/10; 8/8] END learning_rate=0.1, n_estimators=50, subsample=1;, score=-0.525 total time=11.0min\n",
      "[CV 10/10; 8/8] START learning_rate=0.1, n_estimators=50, subsample=1...........\n",
      "[CV 10/10; 8/8] END learning_rate=0.1, n_estimators=50, subsample=1;, score=-0.523 total time=10.9min\n"
     ]
    },
    {
     "data": {
      "text/plain": [
       "GridSearchCV(cv=10, estimator=GradientBoostingRegressor(),\n",
       "             param_grid={'learning_rate': [0.05, 0.1], 'n_estimators': [5, 50],\n",
       "                         'subsample': [0.8, 1]},\n",
       "             scoring='neg_mean_squared_error', verbose=10)"
      ]
     },
     "execution_count": 8,
     "metadata": {},
     "output_type": "execute_result"
    }
   ],
   "source": [
    "np.random.seed(2907)\n",
    "grid_search.fit(X, y)"
   ]
  },
  {
   "cell_type": "code",
   "execution_count": null,
   "id": "c2be43c4-834f-47e4-b748-40d8fb57a874",
   "metadata": {},
   "outputs": [
    {
     "name": "stdout",
     "output_type": "stream",
     "text": [
      "GridSearch results:\n"
     ]
    },
    {
     "data": {
      "text/plain": [
       "{'mean_fit_time': array([ 44.58770137,  56.42193801, 503.12883668, 625.14808743,\n",
       "         52.68514543,  64.51117384, 534.25094497, 659.52282341]),\n",
       " 'std_fit_time': array([ 1.23351612,  0.41231925, 18.56694758,  5.68773909,  0.36139317,\n",
       "         0.44193294,  4.04770172,  6.32628813]),\n",
       " 'mean_score_time': array([0.0513463 , 0.04928932, 0.25762007, 0.2631268 , 0.05661757,\n",
       "        0.05961094, 0.26111152, 0.2697145 ]),\n",
       " 'std_score_time': array([0.00655927, 0.00741082, 0.0102492 , 0.01363183, 0.00664163,\n",
       "        0.01181175, 0.01308236, 0.00642211]),\n",
       " 'param_learning_rate': masked_array(data=[0.05, 0.05, 0.05, 0.05, 0.1, 0.1, 0.1, 0.1],\n",
       "              mask=[False, False, False, False, False, False, False, False],\n",
       "        fill_value='?',\n",
       "             dtype=object),\n",
       " 'param_n_estimators': masked_array(data=[5, 5, 50, 50, 5, 5, 50, 50],\n",
       "              mask=[False, False, False, False, False, False, False, False],\n",
       "        fill_value='?',\n",
       "             dtype=object),\n",
       " 'param_subsample': masked_array(data=[0.8, 1, 0.8, 1, 0.8, 1, 0.8, 1],\n",
       "              mask=[False, False, False, False, False, False, False, False],\n",
       "        fill_value='?',\n",
       "             dtype=object),\n",
       " 'params': [{'learning_rate': 0.05, 'n_estimators': 5, 'subsample': 0.8},\n",
       "  {'learning_rate': 0.05, 'n_estimators': 5, 'subsample': 1},\n",
       "  {'learning_rate': 0.05, 'n_estimators': 50, 'subsample': 0.8},\n",
       "  {'learning_rate': 0.05, 'n_estimators': 50, 'subsample': 1},\n",
       "  {'learning_rate': 0.1, 'n_estimators': 5, 'subsample': 0.8},\n",
       "  {'learning_rate': 0.1, 'n_estimators': 5, 'subsample': 1},\n",
       "  {'learning_rate': 0.1, 'n_estimators': 50, 'subsample': 0.8},\n",
       "  {'learning_rate': 0.1, 'n_estimators': 50, 'subsample': 1}],\n",
       " 'split0_test_score': array([-1.00566115, -1.00565162, -0.67418981, -0.67156436, -0.92877735,\n",
       "        -0.92833155, -0.55818083, -0.55702724]),\n",
       " 'split1_test_score': array([-0.81330571, -0.81403072, -0.51191601, -0.51205191, -0.73369162,\n",
       "        -0.73487732, -0.41434471, -0.42230494]),\n",
       " 'split2_test_score': array([-0.81158546, -0.81157503, -0.43514147, -0.4402449 , -0.71945956,\n",
       "        -0.72247483, -0.34956721, -0.34411724]),\n",
       " 'split3_test_score': array([-0.69914068, -0.69886416, -0.38300897, -0.38152286, -0.61542555,\n",
       "        -0.61473711, -0.31900642, -0.3200976 ]),\n",
       " 'split4_test_score': array([-0.76796717, -0.76925466, -0.45138253, -0.44913992, -0.6778231 ,\n",
       "        -0.67790185, -0.36908025, -0.36902906]),\n",
       " 'split5_test_score': array([-1.09098764, -1.09203636, -0.67194218, -0.67270137, -0.99350595,\n",
       "        -0.99348746, -0.54785947, -0.5441619 ]),\n",
       " 'split6_test_score': array([-0.80212793, -0.8021931 , -0.50094823, -0.49851867, -0.72072264,\n",
       "        -0.72143151, -0.41612043, -0.41411681]),\n",
       " 'split7_test_score': array([-0.96896785, -0.96955103, -0.60545857, -0.60315405, -0.88474665,\n",
       "        -0.88427021, -0.48686768, -0.48497879]),\n",
       " 'split8_test_score': array([-1.01683077, -1.01684278, -0.65062429, -0.64889822, -0.93322207,\n",
       "        -0.93328896, -0.52816942, -0.52518735]),\n",
       " 'split9_test_score': array([-1.00204964, -1.00193507, -0.64423831, -0.64301907, -0.92019073,\n",
       "        -0.92031192, -0.52041126, -0.52332902]),\n",
       " 'mean_test_score': array([-0.8978624 , -0.89819345, -0.55288504, -0.55208153, -0.81275652,\n",
       "        -0.81311127, -0.45096077, -0.450435  ]),\n",
       " 'std_test_score': array([0.12613647, 0.12617995, 0.10341754, 0.10283133, 0.12567426,\n",
       "        0.12537309, 0.08361277, 0.08322854]),\n",
       " 'rank_test_score': array([7, 8, 4, 3, 5, 6, 2, 1])}"
      ]
     },
     "execution_count": 9,
     "metadata": {},
     "output_type": "execute_result"
    }
   ],
   "source": [
    "print(\"GridSearch results:\")\n",
    "grid_search.cv_results_"
   ]
  },
  {
   "cell_type": "code",
   "execution_count": null,
   "id": "c68ebcbb-f36a-4cbb-96cf-c79dccfa1ccd",
   "metadata": {},
   "outputs": [],
   "source": [
    "with open(\"../grids/grid_search_gradient_boosting_01.pkl\", mode=\"wb\") as f:\n",
    "    pickle.dump(grid_search, f)"
   ]
  },
  {
   "cell_type": "code",
   "execution_count": null,
   "id": "fbf41873-8763-4ea0-a574-4cf6872fcd83",
   "metadata": {},
   "outputs": [],
   "source": [
    "best_regressor = grid_search.best_estimator_"
   ]
  },
  {
   "cell_type": "code",
   "execution_count": null,
   "id": "abaedf04-4fd5-44e3-97c6-ce425e9d5341",
   "metadata": {},
   "outputs": [
    {
     "name": "stdout",
     "output_type": "stream",
     "text": [
      "Best regressor GradientBoostingRegressor(n_estimators=50, subsample=1)\n"
     ]
    }
   ],
   "source": [
    "print(\"Best regressor\", best_regressor)"
   ]
  },
  {
   "cell_type": "code",
   "execution_count": null,
   "id": "100d022c-ecb0-4bd6-89c1-f314ba366e76",
   "metadata": {},
   "outputs": [],
   "source": [
    "with open(\"../models/model_gradient_boosting_01.pkl\", mode=\"wb\") as f:\n",
    "    pickle.dump(best_regressor, f)"
   ]
  },
  {
   "cell_type": "code",
   "execution_count": null,
   "id": "2963bc69-806d-4c83-b09a-9f61622a8569",
   "metadata": {},
   "outputs": [],
   "source": [
    "y_hat = best_regressor.predict(X)"
   ]
  },
  {
   "cell_type": "code",
   "execution_count": null,
   "id": "a3829bcc-8a12-4a0e-888a-b8449664f5c4",
   "metadata": {},
   "outputs": [
    {
     "name": "stdout",
     "output_type": "stream",
     "text": [
      "R2 Score: 0.560\n",
      "MSE: 0.440\n"
     ]
    }
   ],
   "source": [
    "r2 = r2_score(y, y_hat)\n",
    "mse = mean_squared_error(y, y_hat)\n",
    "\n",
    "print(f\"R2 Score: {r2:.3f}\")\n",
    "print(f\"MSE: {mse:.3f}\")"
   ]
  }
 ],
 "metadata": {
  "kernelspec": {
   "display_name": "Python 3 (ipykernel)",
   "language": "python",
   "name": "python3"
  },
  "language_info": {
   "codemirror_mode": {
    "name": "ipython",
    "version": 3
   },
   "file_extension": ".py",
   "mimetype": "text/x-python",
   "name": "python",
   "nbconvert_exporter": "python",
   "pygments_lexer": "ipython3",
   "version": "3.9.7"
  }
 },
 "nbformat": 4,
 "nbformat_minor": 5
}
