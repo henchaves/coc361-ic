{
 "cells": [
  {
   "cell_type": "markdown",
   "id": "69adb3da-6e98-4168-8fb6-25eca9590402",
   "metadata": {},
   "source": [
    "<h2>PCQM4Mv2</h2>\n",
    "<h4>Predicting a quantum property of molecules</h4>\n",
    "<h4><a href=\"https://dgl-data.s3-accelerate.amazonaws.com/dataset/OGB-LSC/pcqm4m-v2.zip\">Click here to download dataset from source</a></h4>"
   ]
  },
  {
   "cell_type": "code",
   "execution_count": 1,
   "id": "65a340bc-8c8e-41d8-93bc-ca62fd88b7a6",
   "metadata": {},
   "outputs": [],
   "source": [
    "import os\n",
    "import requests\n",
    "import shutil\n",
    "import zipfile"
   ]
  },
  {
   "cell_type": "code",
   "execution_count": 2,
   "id": "80cd83aa-89c5-4314-a907-4b837f519b8b",
   "metadata": {},
   "outputs": [],
   "source": [
    "DATASET_URL = \"https://dgl-data.s3-accelerate.amazonaws.com/dataset/OGB-LSC/pcqm4m-v2.zip\""
   ]
  },
  {
   "cell_type": "code",
   "execution_count": 3,
   "id": "6889c528-dd30-4097-a7c9-cbf5c0a50989",
   "metadata": {},
   "outputs": [],
   "source": [
    "DATA_FOLDER = os.path.join(\"..\", \"data\")\n",
    "\n",
    "if not os.path.exists(DATA_FOLDER):\n",
    "    os.makedirs(DATA_FOLDER)"
   ]
  },
  {
   "cell_type": "code",
   "execution_count": 4,
   "id": "ab9fbed4-a23c-488c-a7ab-1a4e0144bc6f",
   "metadata": {},
   "outputs": [],
   "source": [
    "def download_data(url, folder, filename):\n",
    "    \"\"\"\n",
    "    Downloads a file via URL and save it to a custom path.\n",
    "    ...\n",
    "    Parameters\n",
    "    ----------\n",
    "    url: str\n",
    "        The file URL\n",
    "    folder: str\n",
    "        The destination folder to save file\n",
    "    filename: str\n",
    "        The name to save file\n",
    "    \"\"\"\n",
    "    \n",
    "    try:\n",
    "        r = requests.get(url)\n",
    "        if r.status_code == 200:\n",
    "            print(\"Data downloaded successfully!\")\n",
    "            \n",
    "            filepath = os.path.join(folder, filename)\n",
    "            with open(filepath, \"wb\") as f:\n",
    "                f.write(r.content)\n",
    "            print(f\"Data saved at: '{filepath}'\")\n",
    "                \n",
    "    except Exception as e:\n",
    "        print(\"An error ocurred while trying to download/save the requested data.\")"
   ]
  },
  {
   "cell_type": "code",
   "execution_count": 5,
   "id": "4c11f664-a59c-410c-addf-71ec62f89594",
   "metadata": {},
   "outputs": [
    {
     "name": "stdout",
     "output_type": "stream",
     "text": [
      "Data downloaded successfully!\n",
      "Data saved at: '..\\data\\pcqm4m-v2.zip'\n"
     ]
    }
   ],
   "source": [
    "download_data(DATASET_URL, DATA_FOLDER, filename=\"pcqm4m-v2.zip\")"
   ]
  },
  {
   "cell_type": "code",
   "execution_count": 6,
   "id": "6722804e-faad-4e1c-a3c2-465107ca0e1e",
   "metadata": {},
   "outputs": [],
   "source": [
    "def unzip_data(folder, filename):\n",
    "    with zipfile.ZipFile(os.path.join(folder, filename),\"r\") as zip_ref:\n",
    "        zip_ref.extractall(folder)\n",
    "    print(f\"Unzipped '{filename}' at: '{folder}'\")"
   ]
  },
  {
   "cell_type": "code",
   "execution_count": 7,
   "id": "e68f728d-a749-4089-9491-eb80725c8206",
   "metadata": {},
   "outputs": [
    {
     "name": "stdout",
     "output_type": "stream",
     "text": [
      "Unzipped 'pcqm4m-v2.zip' at: '..\\data'\n"
     ]
    }
   ],
   "source": [
    "unzip_data(DATA_FOLDER, filename=\"pcqm4m-v2.zip\")"
   ]
  },
  {
   "cell_type": "code",
   "execution_count": 8,
   "id": "bcb3103e-fb22-46a0-9f7d-dc88bcfd0b8b",
   "metadata": {},
   "outputs": [],
   "source": [
    "def move_file(original_path, final_path, filename):\n",
    "    original_file_path = os.path.join(original_path, filename)\n",
    "    final_file_path = os.path.join(final_path, filename)\n",
    "    shutil.move(original_file_path, final_file_path)\n",
    "    print(f\"Moved '{filename}' from '{original_path}' to '{final_path}'\")"
   ]
  },
  {
   "cell_type": "code",
   "execution_count": 10,
   "id": "7344ae5c-d0e1-4264-b246-643dc6df584c",
   "metadata": {},
   "outputs": [
    {
     "name": "stdout",
     "output_type": "stream",
     "text": [
      "Moved 'data.csv.gz' from '..\\data\\pcqm4m-v2\\raw' to '..\\data'\n"
     ]
    }
   ],
   "source": [
    "move_file(original_path=os.path.join(DATA_FOLDER, \"pcqm4m-v2\", \"raw\"),\n",
    "          final_path=DATA_FOLDER,\n",
    "          filename=\"data.csv.gz\")"
   ]
  },
  {
   "cell_type": "code",
   "execution_count": 11,
   "id": "ecd602cb-4483-43d0-a9a8-31037c27e680",
   "metadata": {},
   "outputs": [],
   "source": [
    "def remove_file(filepath):\n",
    "    os.remove(filepath)\n",
    "    print(f\"Removed '{filepath}' !\")\n",
    "\n",
    "def remove_dir(dirpath):\n",
    "    shutil.rmtree(dirpath)\n",
    "    print(f\"Removed '{dirpath}' !\")"
   ]
  },
  {
   "cell_type": "code",
   "execution_count": 12,
   "id": "353be9a8-8908-439d-8493-70d7c1c0c6c1",
   "metadata": {},
   "outputs": [
    {
     "name": "stdout",
     "output_type": "stream",
     "text": [
      "Removed '..\\data\\pcqm4m-v2.zip' !\n",
      "Removed '..\\data\\pcqm4m-v2' !\n"
     ]
    }
   ],
   "source": [
    "remove_file(os.path.join(DATA_FOLDER, \"pcqm4m-v2.zip\"))\n",
    "remove_dir(os.path.join(DATA_FOLDER, \"pcqm4m-v2\"))"
   ]
  }
 ],
 "metadata": {
  "kernelspec": {
   "display_name": "Python 3 (ipykernel)",
   "language": "python",
   "name": "python3"
  },
  "language_info": {
   "codemirror_mode": {
    "name": "ipython",
    "version": 3
   },
   "file_extension": ".py",
   "mimetype": "text/x-python",
   "name": "python",
   "nbconvert_exporter": "python",
   "pygments_lexer": "ipython3",
   "version": "3.9.7"
  }
 },
 "nbformat": 4,
 "nbformat_minor": 5
}
