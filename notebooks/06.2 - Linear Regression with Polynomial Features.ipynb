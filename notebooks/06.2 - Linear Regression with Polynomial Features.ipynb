{
 "cells": [
  {
   "cell_type": "code",
   "execution_count": 1,
   "id": "e7273394-b106-415e-b923-b8ac911b4d3b",
   "metadata": {},
   "outputs": [],
   "source": [
    "import numpy as np\n",
    "from sklearn.preprocessing import PolynomialFeatures\n",
    "from sklearn.linear_model import LinearRegression\n",
    "from sklearn.model_selection import GridSearchCV\n",
    "from sklearn.pipeline import Pipeline\n",
    "from sklearn.metrics import r2_score, mean_squared_error\n",
    "import pickle"
   ]
  },
  {
   "cell_type": "code",
   "execution_count": 2,
   "id": "5c8c8897-7ff9-42a7-955f-d9b6e4651843",
   "metadata": {},
   "outputs": [],
   "source": [
    "X = np.load(\"../data/X_train_scaled.npy\", allow_pickle=True)\n",
    "y = np.load(\"../data/y_train_scaled.npy\", allow_pickle=True)"
   ]
  },
  {
   "cell_type": "code",
   "execution_count": 3,
   "id": "f699cb19-cc74-4c54-a6ca-1c8eda6ae335",
   "metadata": {},
   "outputs": [
    {
     "name": "stdout",
     "output_type": "stream",
     "text": [
      "X shape: (3104579, 26)\n",
      "y shape: (3104579, 1)\n"
     ]
    }
   ],
   "source": [
    "print(\"X shape:\", X.shape)\n",
    "print(\"y shape:\", y.shape)"
   ]
  },
  {
   "cell_type": "code",
   "execution_count": 4,
   "id": "5a2a44dd-1ea4-4169-8b24-7a06d6c3e6ae",
   "metadata": {},
   "outputs": [],
   "source": [
    "pipeline = Pipeline(\n",
    "    steps=[\n",
    "        (\"poly\", PolynomialFeatures()),\n",
    "        (\"regressor\", LinearRegression())\n",
    "    ]\n",
    ")"
   ]
  },
  {
   "cell_type": "code",
   "execution_count": 5,
   "id": "6fadaf14-56b2-4daa-90d1-fb6913d0c82f",
   "metadata": {},
   "outputs": [],
   "source": [
    "param_grid = {\"poly__degree\": [2, 3]}"
   ]
  },
  {
   "cell_type": "code",
   "execution_count": 6,
   "id": "27d4a3e2-c00b-4cb9-bca2-e9d52b746e86",
   "metadata": {},
   "outputs": [],
   "source": [
    "grid_search = GridSearchCV(\n",
    "    pipeline,\n",
    "    param_grid,\n",
    "    scoring=\"neg_mean_squared_error\",\n",
    "    cv=10,\n",
    "    verbose=10\n",
    ")"
   ]
  },
  {
   "cell_type": "code",
   "execution_count": 7,
   "id": "8d7c1302-7ee2-4992-9554-7518fb0cb453",
   "metadata": {},
   "outputs": [
    {
     "name": "stdout",
     "output_type": "stream",
     "text": [
      "Fitting 10 folds for each of 2 candidates, totalling 20 fits\n",
      "[CV 1/10; 1/2] START poly__degree=2.............................................\n",
      "[CV 1/10; 1/2] END poly__degree=2;, score=-32618528414623.781 total time= 1.2min\n",
      "[CV 2/10; 1/2] START poly__degree=2.............................................\n",
      "[CV 2/10; 1/2] END .............poly__degree=2;, score=-0.287 total time= 1.2min\n",
      "[CV 3/10; 1/2] START poly__degree=2.............................................\n",
      "[CV 3/10; 1/2] END .............poly__degree=2;, score=-0.237 total time= 1.4min\n",
      "[CV 4/10; 1/2] START poly__degree=2.............................................\n",
      "[CV 4/10; 1/2] END .............poly__degree=2;, score=-0.249 total time= 1.3min\n",
      "[CV 5/10; 1/2] START poly__degree=2.............................................\n",
      "[CV 5/10; 1/2] END poly__degree=2;, score=-97290310225102.812 total time= 1.2min\n",
      "[CV 6/10; 1/2] START poly__degree=2.............................................\n",
      "[CV 6/10; 1/2] END poly__degree=2;, score=-19538980725368.055 total time= 1.3min\n",
      "[CV 7/10; 1/2] START poly__degree=2.............................................\n",
      "[CV 7/10; 1/2] END poly__degree=2;, score=-29414992357132.105 total time= 1.3min\n",
      "[CV 8/10; 1/2] START poly__degree=2.............................................\n",
      "[CV 8/10; 1/2] END poly__degree=2;, score=-22384351171977168.000 total time= 1.3min\n",
      "[CV 9/10; 1/2] START poly__degree=2.............................................\n",
      "[CV 9/10; 1/2] END poly__degree=2;, score=-984620509497605.000 total time= 1.3min\n",
      "[CV 10/10; 1/2] START poly__degree=2............................................\n",
      "[CV 10/10; 1/2] END poly__degree=2;, score=-354630419634495.375 total time= 1.2min\n",
      "[CV 1/10; 2/2] START poly__degree=3.............................................\n",
      "[CV 1/10; 2/2] END ................poly__degree=3;, score=nan total time=   0.6s\n",
      "[CV 2/10; 2/2] START poly__degree=3.............................................\n",
      "[CV 2/10; 2/2] END ................poly__degree=3;, score=nan total time=   0.6s\n",
      "[CV 3/10; 2/2] START poly__degree=3.............................................\n",
      "[CV 3/10; 2/2] END ................poly__degree=3;, score=nan total time=   0.6s\n",
      "[CV 4/10; 2/2] START poly__degree=3.............................................\n",
      "[CV 4/10; 2/2] END ................poly__degree=3;, score=nan total time=   0.6s\n",
      "[CV 5/10; 2/2] START poly__degree=3.............................................\n",
      "[CV 5/10; 2/2] END ................poly__degree=3;, score=nan total time=   0.6s\n",
      "[CV 6/10; 2/2] START poly__degree=3.............................................\n",
      "[CV 6/10; 2/2] END ................poly__degree=3;, score=nan total time=   0.6s\n",
      "[CV 7/10; 2/2] START poly__degree=3.............................................\n",
      "[CV 7/10; 2/2] END ................poly__degree=3;, score=nan total time=   0.6s\n",
      "[CV 8/10; 2/2] START poly__degree=3.............................................\n",
      "[CV 8/10; 2/2] END ................poly__degree=3;, score=nan total time=   0.6s\n",
      "[CV 9/10; 2/2] START poly__degree=3.............................................\n",
      "[CV 9/10; 2/2] END ................poly__degree=3;, score=nan total time=   0.6s\n",
      "[CV 10/10; 2/2] START poly__degree=3............................................\n",
      "[CV 10/10; 2/2] END ...............poly__degree=3;, score=nan total time=   0.6s\n"
     ]
    },
    {
     "name": "stderr",
     "output_type": "stream",
     "text": [
      "/home/henrique/github/coc361-ic/.venv/lib/python3.10/site-packages/sklearn/model_selection/_validation.py:372: FitFailedWarning: \n",
      "10 fits failed out of a total of 20.\n",
      "The score on these train-test partitions for these parameters will be set to nan.\n",
      "If these failures are not expected, you can try to debug them by setting error_score='raise'.\n",
      "\n",
      "Below are more details about the failures:\n",
      "--------------------------------------------------------------------------------\n",
      "9 fits failed with the following error:\n",
      "Traceback (most recent call last):\n",
      "  File \"/home/henrique/github/coc361-ic/.venv/lib/python3.10/site-packages/sklearn/model_selection/_validation.py\", line 680, in _fit_and_score\n",
      "    estimator.fit(X_train, y_train, **fit_params)\n",
      "  File \"/home/henrique/github/coc361-ic/.venv/lib/python3.10/site-packages/sklearn/pipeline.py\", line 390, in fit\n",
      "    Xt = self._fit(X, y, **fit_params_steps)\n",
      "  File \"/home/henrique/github/coc361-ic/.venv/lib/python3.10/site-packages/sklearn/pipeline.py\", line 348, in _fit\n",
      "    X, fitted_transformer = fit_transform_one_cached(\n",
      "  File \"/home/henrique/github/coc361-ic/.venv/lib/python3.10/site-packages/joblib/memory.py\", line 349, in __call__\n",
      "    return self.func(*args, **kwargs)\n",
      "  File \"/home/henrique/github/coc361-ic/.venv/lib/python3.10/site-packages/sklearn/pipeline.py\", line 893, in _fit_transform_one\n",
      "    res = transformer.fit_transform(X, y, **fit_params)\n",
      "  File \"/home/henrique/github/coc361-ic/.venv/lib/python3.10/site-packages/sklearn/base.py\", line 855, in fit_transform\n",
      "    return self.fit(X, y, **fit_params).transform(X)\n",
      "  File \"/home/henrique/github/coc361-ic/.venv/lib/python3.10/site-packages/sklearn/preprocessing/_polynomial.py\", line 421, in transform\n",
      "    XP = np.empty(\n",
      "numpy.core._exceptions._ArrayMemoryError: Unable to allocate 76.1 GiB for an array with shape (2794121, 3654) and data type float64\n",
      "\n",
      "--------------------------------------------------------------------------------\n",
      "1 fits failed with the following error:\n",
      "Traceback (most recent call last):\n",
      "  File \"/home/henrique/github/coc361-ic/.venv/lib/python3.10/site-packages/sklearn/model_selection/_validation.py\", line 680, in _fit_and_score\n",
      "    estimator.fit(X_train, y_train, **fit_params)\n",
      "  File \"/home/henrique/github/coc361-ic/.venv/lib/python3.10/site-packages/sklearn/pipeline.py\", line 390, in fit\n",
      "    Xt = self._fit(X, y, **fit_params_steps)\n",
      "  File \"/home/henrique/github/coc361-ic/.venv/lib/python3.10/site-packages/sklearn/pipeline.py\", line 348, in _fit\n",
      "    X, fitted_transformer = fit_transform_one_cached(\n",
      "  File \"/home/henrique/github/coc361-ic/.venv/lib/python3.10/site-packages/joblib/memory.py\", line 349, in __call__\n",
      "    return self.func(*args, **kwargs)\n",
      "  File \"/home/henrique/github/coc361-ic/.venv/lib/python3.10/site-packages/sklearn/pipeline.py\", line 893, in _fit_transform_one\n",
      "    res = transformer.fit_transform(X, y, **fit_params)\n",
      "  File \"/home/henrique/github/coc361-ic/.venv/lib/python3.10/site-packages/sklearn/base.py\", line 855, in fit_transform\n",
      "    return self.fit(X, y, **fit_params).transform(X)\n",
      "  File \"/home/henrique/github/coc361-ic/.venv/lib/python3.10/site-packages/sklearn/preprocessing/_polynomial.py\", line 421, in transform\n",
      "    XP = np.empty(\n",
      "numpy.core._exceptions._ArrayMemoryError: Unable to allocate 76.1 GiB for an array with shape (2794122, 3654) and data type float64\n",
      "\n",
      "  warnings.warn(some_fits_failed_message, FitFailedWarning)\n",
      "/home/henrique/github/coc361-ic/.venv/lib/python3.10/site-packages/sklearn/model_selection/_search.py:969: UserWarning: One or more of the test scores are non-finite: [-2.39024649e+15             nan]\n",
      "  warnings.warn(\n"
     ]
    },
    {
     "data": {
      "text/plain": [
       "GridSearchCV(cv=10,\n",
       "             estimator=Pipeline(steps=[('poly', PolynomialFeatures()),\n",
       "                                       ('regressor', LinearRegression())]),\n",
       "             param_grid={'poly__degree': [2, 3]},\n",
       "             scoring='neg_mean_squared_error', verbose=10)"
      ]
     },
     "execution_count": 7,
     "metadata": {},
     "output_type": "execute_result"
    }
   ],
   "source": [
    "np.random.seed(2907)\n",
    "grid_search.fit(X, y)"
   ]
  },
  {
   "cell_type": "code",
   "execution_count": null,
   "id": "c2be43c4-834f-47e4-b748-40d8fb57a874",
   "metadata": {},
   "outputs": [],
   "source": [
    "print(\"GridSearch results:\")\n",
    "grid_search.cv_results_"
   ]
  },
  {
   "cell_type": "code",
   "execution_count": null,
   "id": "c68ebcbb-f36a-4cbb-96cf-c79dccfa1ccd",
   "metadata": {},
   "outputs": [],
   "source": [
    "with open(\"../grids/grid_search_linear_regressor_with_polynomial_features_01.pkl\", mode=\"wb\") as f:\n",
    "    pickle.dump(grid_search, f)"
   ]
  },
  {
   "cell_type": "code",
   "execution_count": null,
   "id": "fbf41873-8763-4ea0-a574-4cf6872fcd83",
   "metadata": {},
   "outputs": [],
   "source": [
    "best_regressor = grid_search.best_estimator_"
   ]
  },
  {
   "cell_type": "code",
   "execution_count": null,
   "id": "abaedf04-4fd5-44e3-97c6-ce425e9d5341",
   "metadata": {},
   "outputs": [],
   "source": [
    "print(\"Best regressor\")\n",
    "print(\"Coefs.:\", best_regressor.coef_)\n",
    "print(\"Intercept:\", best_regressor.intercept_)"
   ]
  },
  {
   "cell_type": "code",
   "execution_count": null,
   "id": "100d022c-ecb0-4bd6-89c1-f314ba366e76",
   "metadata": {},
   "outputs": [],
   "source": [
    "with open(\"../models/model_linear_regressor_with_polynomial_features_01.pkl\", mode=\"wb\") as f:\n",
    "    pickle.dump(best_regressor, f)"
   ]
  },
  {
   "cell_type": "code",
   "execution_count": null,
   "id": "2963bc69-806d-4c83-b09a-9f61622a8569",
   "metadata": {},
   "outputs": [],
   "source": [
    "y_hat = best_regressor.predict(X)"
   ]
  },
  {
   "cell_type": "code",
   "execution_count": null,
   "id": "a3829bcc-8a12-4a0e-888a-b8449664f5c4",
   "metadata": {},
   "outputs": [],
   "source": [
    "r2 = r2_score(y, y_hat)\n",
    "mse = mean_squared_error(y, y_hat)\n",
    "\n",
    "print(f\"R2 Score: {r2:.3f}\")\n",
    "print(f\"MSE: {mse:.3f}\")"
   ]
  }
 ],
 "metadata": {
  "kernelspec": {
   "display_name": "Python 3 (ipykernel)",
   "language": "python",
   "name": "python3"
  },
  "language_info": {
   "codemirror_mode": {
    "name": "ipython",
    "version": 3
   },
   "file_extension": ".py",
   "mimetype": "text/x-python",
   "name": "python",
   "nbconvert_exporter": "python",
   "pygments_lexer": "ipython3",
   "version": "3.10.2"
  }
 },
 "nbformat": 4,
 "nbformat_minor": 5
}
