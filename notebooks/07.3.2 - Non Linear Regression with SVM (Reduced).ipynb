{
 "cells": [
  {
   "cell_type": "code",
   "execution_count": 1,
   "id": "2d361f2c-6357-4a5d-8d97-5eaf6ff05ac3",
   "metadata": {},
   "outputs": [],
   "source": [
    "import numpy as np\n",
    "from sklearn.svm import SVR\n",
    "from sklearn.model_selection import GridSearchCV\n",
    "from sklearn.metrics import r2_score, mean_squared_error\n",
    "import pickle"
   ]
  },
  {
   "cell_type": "code",
   "execution_count": 2,
   "id": "026bae56-6810-48ef-8810-9a712151b486",
   "metadata": {},
   "outputs": [],
   "source": [
    "X = np.load(\"../data/X_train_scaled.npy\", allow_pickle=True)\n",
    "y = np.load(\"../data/y_train_scaled.npy\", allow_pickle=True)"
   ]
  },
  {
   "cell_type": "code",
   "execution_count": 3,
   "id": "93759eea-30af-4b25-9e57-c2fb40e96878",
   "metadata": {},
   "outputs": [
    {
     "name": "stdout",
     "output_type": "stream",
     "text": [
      "X shape: (3104579, 26)\n",
      "y shape: (3104579, 1)\n"
     ]
    }
   ],
   "source": [
    "print(\"X shape:\", X.shape)\n",
    "print(\"y shape:\", y.shape)"
   ]
  },
  {
   "cell_type": "code",
   "execution_count": 4,
   "id": "ab62b10f-dab6-4dd0-8688-887f30ac2aa0",
   "metadata": {},
   "outputs": [],
   "source": [
    "np.random.seed(2907)\n",
    "\n",
    "#Reduce sample\n",
    "N = int(1e4)\n",
    "indexes = np.arange(X.shape[0])\n",
    "np.random.shuffle(indexes)\n",
    "indexes = indexes[:N]"
   ]
  },
  {
   "cell_type": "code",
   "execution_count": 5,
   "id": "4cc512b3-e036-49a5-9894-0676b67c2847",
   "metadata": {},
   "outputs": [],
   "source": [
    "X_red, y_red = X[indexes], y[indexes]"
   ]
  },
  {
   "cell_type": "code",
   "execution_count": 6,
   "id": "03aa8203-fd36-4c12-8603-d57ee36a0d3f",
   "metadata": {},
   "outputs": [
    {
     "name": "stdout",
     "output_type": "stream",
     "text": [
      "X_red shape: (10000, 26)\n",
      "y_red shape: (10000, 1)\n"
     ]
    }
   ],
   "source": [
    "print(\"X_red shape:\", X_red.shape)\n",
    "print(\"y_red shape:\", y_red.shape)"
   ]
  },
  {
   "cell_type": "code",
   "execution_count": 7,
   "id": "bfe830d0-b942-40d1-8696-011dd403de46",
   "metadata": {},
   "outputs": [],
   "source": [
    "svm = SVR()"
   ]
  },
  {
   "cell_type": "code",
   "execution_count": 8,
   "id": "25c08690-4178-4850-9ce6-9692ab9dc2d9",
   "metadata": {},
   "outputs": [],
   "source": [
    "param_grid = {\n",
    "    \"C\": [1, 100],\n",
    "    \"gamma\": [0.8, 1]\n",
    "}"
   ]
  },
  {
   "cell_type": "code",
   "execution_count": 9,
   "id": "8a34b856-8c3f-43be-a24a-48775e5d9bc8",
   "metadata": {},
   "outputs": [],
   "source": [
    "grid_search = GridSearchCV(\n",
    "    svm,\n",
    "    param_grid,\n",
    "    scoring=\"neg_mean_squared_error\",\n",
    "    cv=10,\n",
    "    verbose=10,\n",
    "    n_jobs=10\n",
    ")"
   ]
  },
  {
   "cell_type": "code",
   "execution_count": 10,
   "id": "e82c0564-3036-45fc-b49c-a7801d646ca8",
   "metadata": {},
   "outputs": [],
   "source": [
    "y_red = y_red.ravel()"
   ]
  },
  {
   "cell_type": "code",
   "execution_count": 11,
   "id": "3d7de48c-f379-47f2-bb32-bbf5c977ae03",
   "metadata": {},
   "outputs": [
    {
     "name": "stdout",
     "output_type": "stream",
     "text": [
      "Fitting 10 folds for each of 4 candidates, totalling 40 fits\n"
     ]
    },
    {
     "data": {
      "text/plain": [
       "GridSearchCV(cv=10, estimator=SVR(), n_jobs=10,\n",
       "             param_grid={'C': [1, 100], 'gamma': [0.8, 1]},\n",
       "             scoring='neg_mean_squared_error', verbose=10)"
      ]
     },
     "execution_count": 11,
     "metadata": {},
     "output_type": "execute_result"
    }
   ],
   "source": [
    "np.random.seed(2907)\n",
    "grid_search.fit(X_red, y_red)"
   ]
  },
  {
   "cell_type": "code",
   "execution_count": 12,
   "id": "d7f7d259-6306-408a-bb78-3724bfd826c3",
   "metadata": {},
   "outputs": [
    {
     "name": "stdout",
     "output_type": "stream",
     "text": [
      "GridSearch results:\n"
     ]
    },
    {
     "data": {
      "text/plain": [
       "{'mean_fit_time': array([ 5.94035838,  6.09487348, 20.17899635, 17.55943074]),\n",
       " 'std_fit_time': array([0.80734614, 0.85440633, 1.48817653, 1.31835443]),\n",
       " 'mean_score_time': array([0.54175723, 0.54212289, 0.53832903, 0.47576966]),\n",
       " 'std_score_time': array([0.09370023, 0.10060939, 0.08816931, 0.11158534]),\n",
       " 'param_C': masked_array(data=[1, 1, 100, 100],\n",
       "              mask=[False, False, False, False],\n",
       "        fill_value='?',\n",
       "             dtype=object),\n",
       " 'param_gamma': masked_array(data=[0.8, 1, 0.8, 1],\n",
       "              mask=[False, False, False, False],\n",
       "        fill_value='?',\n",
       "             dtype=object),\n",
       " 'params': [{'C': 1, 'gamma': 0.8},\n",
       "  {'C': 1, 'gamma': 1},\n",
       "  {'C': 100, 'gamma': 0.8},\n",
       "  {'C': 100, 'gamma': 1}],\n",
       " 'split0_test_score': array([-0.61123554, -0.65207678, -0.62312954, -0.65137606]),\n",
       " 'split1_test_score': array([-0.5951875 , -0.63861147, -0.58578268, -0.61705487]),\n",
       " 'split2_test_score': array([-0.56587934, -0.60564552, -0.55575005, -0.58795952]),\n",
       " 'split3_test_score': array([-0.57966767, -0.62461534, -0.5904895 , -0.62009836]),\n",
       " 'split4_test_score': array([-0.55956391, -0.59826361, -0.56870329, -0.5958099 ]),\n",
       " 'split5_test_score': array([-0.54577085, -0.57701468, -0.54085259, -0.57334861]),\n",
       " 'split6_test_score': array([-0.52032863, -0.56057182, -0.5275553 , -0.55695994]),\n",
       " 'split7_test_score': array([-0.53915926, -0.58346454, -0.55095015, -0.58177545]),\n",
       " 'split8_test_score': array([-0.56218245, -0.59998741, -0.57006796, -0.59336394]),\n",
       " 'split9_test_score': array([-0.54526401, -0.58191978, -0.55903024, -0.58393542]),\n",
       " 'mean_test_score': array([-0.56242392, -0.60221709, -0.56723113, -0.59616821]),\n",
       " 'std_test_score': array([0.02580426, 0.02734539, 0.02598865, 0.02558711]),\n",
       " 'rank_test_score': array([1, 4, 2, 3], dtype=int32)}"
      ]
     },
     "execution_count": 12,
     "metadata": {},
     "output_type": "execute_result"
    }
   ],
   "source": [
    "print(\"GridSearch results:\")\n",
    "grid_search.cv_results_"
   ]
  },
  {
   "cell_type": "code",
   "execution_count": 13,
   "id": "9e0106a6-457d-423e-9d90-4087f7c969f7",
   "metadata": {},
   "outputs": [],
   "source": [
    "with open(\"../grids/grid_search_svm_02.pkl\", mode=\"wb\") as f:\n",
    "    pickle.dump(grid_search, f)"
   ]
  },
  {
   "cell_type": "code",
   "execution_count": 14,
   "id": "65bc67ec-2564-4021-84cc-1840a7df4400",
   "metadata": {},
   "outputs": [],
   "source": [
    "best_regressor = grid_search.best_estimator_"
   ]
  },
  {
   "cell_type": "code",
   "execution_count": 15,
   "id": "ed22c994-3288-4e1c-a83e-6442192e1b41",
   "metadata": {},
   "outputs": [
    {
     "name": "stdout",
     "output_type": "stream",
     "text": [
      "Best regressor SVR(C=1, gamma=0.8)\n"
     ]
    }
   ],
   "source": [
    "print(\"Best regressor\", best_regressor)"
   ]
  },
  {
   "cell_type": "code",
   "execution_count": 16,
   "id": "bcc9e000-270f-4767-a8d0-d71a0e416c56",
   "metadata": {},
   "outputs": [],
   "source": [
    "with open(\"../models/model_svm_02.pkl\", mode=\"wb\") as f:\n",
    "    pickle.dump(best_regressor, f)"
   ]
  },
  {
   "cell_type": "code",
   "execution_count": 17,
   "id": "a339f056-6852-42a3-b9e7-3c99c6881b0e",
   "metadata": {},
   "outputs": [
    {
     "name": "stdout",
     "output_type": "stream",
     "text": [
      "[CV 5/10; 1/4] START C=1, gamma=0.8.............................................\n",
      "[CV 5/10; 1/4] END .............C=1, gamma=0.8;, score=-0.560 total time=   7.3s\n",
      "[CV 8/10; 2/4] START C=1, gamma=1...............................................\n",
      "[CV 8/10; 2/4] END ...............C=1, gamma=1;, score=-0.583 total time=   4.8s\n",
      "[CV 2/10; 3/4] START C=100, gamma=0.8...........................................\n",
      "[CV 2/10; 3/4] END ...........C=100, gamma=0.8;, score=-0.586 total time=  20.6s\n",
      "[CV 4/10; 4/4] START C=100, gamma=1.............................................\n",
      "[CV 4/10; 4/4] END .............C=100, gamma=1;, score=-0.620 total time=  17.2s\n",
      "[CV 2/10; 1/4] START C=1, gamma=0.8.............................................\n",
      "[CV 2/10; 1/4] END .............C=1, gamma=0.8;, score=-0.595 total time=   4.9s\n",
      "[CV 1/10; 2/4] START C=1, gamma=1...............................................\n",
      "[CV 1/10; 2/4] END ...............C=1, gamma=1;, score=-0.652 total time=   5.5s\n",
      "[CV 1/10; 3/4] START C=100, gamma=0.8...........................................\n",
      "[CV 1/10; 3/4] END ...........C=100, gamma=0.8;, score=-0.623 total time=  21.0s\n",
      "[CV 2/10; 4/4] START C=100, gamma=1.............................................\n",
      "[CV 2/10; 4/4] END .............C=100, gamma=1;, score=-0.617 total time=  19.0s\n",
      "[CV 10/10; 1/4] START C=1, gamma=0.8............................................\n",
      "[CV 10/10; 1/4] END ............C=1, gamma=0.8;, score=-0.545 total time=   7.0s\n",
      "[CV 7/10; 2/4] START C=1, gamma=1...............................................\n",
      "[CV 7/10; 2/4] END ...............C=1, gamma=1;, score=-0.561 total time=   7.0s\n",
      "[CV 9/10; 3/4] START C=100, gamma=0.8...........................................\n",
      "[CV 9/10; 3/4] END ...........C=100, gamma=0.8;, score=-0.570 total time=  20.7s\n",
      "[CV 6/10; 4/4] START C=100, gamma=1.............................................\n",
      "[CV 6/10; 4/4] END .............C=100, gamma=1;, score=-0.573 total time=  15.6s\n",
      "[CV 4/10; 1/4] START C=1, gamma=0.8.............................................\n",
      "[CV 4/10; 1/4] END .............C=1, gamma=0.8;, score=-0.580 total time=   6.7s\n",
      "[CV 6/10; 2/4] START C=1, gamma=1...............................................\n",
      "[CV 6/10; 2/4] END ...............C=1, gamma=1;, score=-0.577 total time=   6.0s\n",
      "[CV 3/10; 3/4] START C=100, gamma=0.8...........................................\n",
      "[CV 3/10; 3/4] END ...........C=100, gamma=0.8;, score=-0.556 total time=  18.5s\n",
      "[CV 1/10; 4/4] START C=100, gamma=1.............................................\n",
      "[CV 1/10; 4/4] END .............C=100, gamma=1;, score=-0.651 total time=  19.5s\n",
      "[CV 3/10; 1/4] START C=1, gamma=0.8.............................................\n",
      "[CV 3/10; 1/4] END .............C=1, gamma=0.8;, score=-0.566 total time=   5.3s\n",
      "[CV 2/10; 2/4] START C=1, gamma=1...............................................\n",
      "[CV 2/10; 2/4] END ...............C=1, gamma=1;, score=-0.639 total time=   7.6s\n",
      "[CV 4/10; 3/4] START C=100, gamma=0.8...........................................\n",
      "[CV 4/10; 3/4] END ...........C=100, gamma=0.8;, score=-0.590 total time=  19.2s\n",
      "[CV 3/10; 4/4] START C=100, gamma=1.............................................\n",
      "[CV 3/10; 4/4] END .............C=100, gamma=1;, score=-0.588 total time=  19.8s\n",
      "[CV 1/10; 1/4] START C=1, gamma=0.8.............................................\n",
      "[CV 1/10; 1/4] END .............C=1, gamma=0.8;, score=-0.611 total time=   6.7s\n",
      "[CV 5/10; 2/4] START C=1, gamma=1...............................................\n",
      "[CV 5/10; 2/4] END ...............C=1, gamma=1;, score=-0.598 total time=   7.3s\n",
      "[CV 8/10; 3/4] START C=100, gamma=0.8...........................................\n",
      "[CV 8/10; 3/4] END ...........C=100, gamma=0.8;, score=-0.551 total time=  18.8s\n",
      "[CV 5/10; 4/4] START C=100, gamma=1.............................................\n",
      "[CV 5/10; 4/4] END .............C=100, gamma=1;, score=-0.596 total time=  19.2s\n",
      "[CV 7/10; 1/4] START C=1, gamma=0.8.............................................\n",
      "[CV 7/10; 1/4] END .............C=1, gamma=0.8;, score=-0.520 total time=   7.4s\n",
      "[CV 10/10; 2/4] START C=1, gamma=1..............................................\n",
      "[CV 10/10; 2/4] END ..............C=1, gamma=1;, score=-0.582 total time=   6.3s\n",
      "[CV 6/10; 3/4] START C=100, gamma=0.8...........................................\n",
      "[CV 6/10; 3/4] END ...........C=100, gamma=0.8;, score=-0.541 total time=  21.6s\n",
      "[CV 7/10; 4/4] START C=100, gamma=1.............................................\n",
      "[CV 7/10; 4/4] END .............C=100, gamma=1;, score=-0.557 total time=  16.7s\n",
      "[CV 8/10; 1/4] START C=1, gamma=0.8.............................................\n",
      "[CV 8/10; 1/4] END .............C=1, gamma=0.8;, score=-0.539 total time=   7.3s\n",
      "[CV 9/10; 2/4] START C=1, gamma=1...............................................\n",
      "[CV 9/10; 2/4] END ...............C=1, gamma=1;, score=-0.600 total time=   7.0s\n",
      "[CV 10/10; 3/4] START C=100, gamma=0.8..........................................\n",
      "[CV 10/10; 3/4] END ..........C=100, gamma=0.8;, score=-0.559 total time=  21.1s\n",
      "[CV 9/10; 4/4] START C=100, gamma=1.............................................\n",
      "[CV 9/10; 4/4] END .............C=100, gamma=1;, score=-0.593 total time=  17.0s\n",
      "[CV 9/10; 1/4] START C=1, gamma=0.8.............................................\n",
      "[CV 9/10; 1/4] END .............C=1, gamma=0.8;, score=-0.562 total time=   5.8s\n",
      "[CV 3/10; 2/4] START C=1, gamma=1...............................................\n",
      "[CV 3/10; 2/4] END ...............C=1, gamma=1;, score=-0.606 total time=   7.5s\n",
      "[CV 5/10; 3/4] START C=100, gamma=0.8...........................................\n",
      "[CV 5/10; 3/4] END ...........C=100, gamma=0.8;, score=-0.569 total time=  22.1s\n",
      "[CV 8/10; 4/4] START C=100, gamma=1.............................................\n",
      "[CV 8/10; 4/4] END .............C=100, gamma=1;, score=-0.582 total time=  18.6s\n",
      "[CV 6/10; 1/4] START C=1, gamma=0.8.............................................\n",
      "[CV 6/10; 1/4] END .............C=1, gamma=0.8;, score=-0.546 total time=   6.5s\n",
      "[CV 4/10; 2/4] START C=1, gamma=1...............................................\n",
      "[CV 4/10; 2/4] END ...............C=1, gamma=1;, score=-0.625 total time=   7.4s\n",
      "[CV 7/10; 3/4] START C=100, gamma=0.8...........................................\n",
      "[CV 7/10; 3/4] END ...........C=100, gamma=0.8;, score=-0.528 total time=  23.7s\n",
      "[CV 10/10; 4/4] START C=100, gamma=1............................................\n",
      "[CV 10/10; 4/4] END ............C=100, gamma=1;, score=-0.584 total time=  17.7s\n"
     ]
    }
   ],
   "source": [
    "y_hat = best_regressor.predict(X)"
   ]
  },
  {
   "cell_type": "code",
   "execution_count": 18,
   "id": "3dfc4427-2a16-4487-ae80-df00127feb64",
   "metadata": {},
   "outputs": [
    {
     "name": "stdout",
     "output_type": "stream",
     "text": [
      "R2 Score: 0.430\n",
      "MSE: 0.570\n"
     ]
    }
   ],
   "source": [
    "r2 = r2_score(y, y_hat)\n",
    "mse = mean_squared_error(y, y_hat)\n",
    "\n",
    "print(f\"R2 Score: {r2:.3f}\")\n",
    "print(f\"MSE: {mse:.3f}\")"
   ]
  }
 ],
 "metadata": {
  "kernelspec": {
   "display_name": "Python 3 (ipykernel)",
   "language": "python",
   "name": "python3"
  },
  "language_info": {
   "codemirror_mode": {
    "name": "ipython",
    "version": 3
   },
   "file_extension": ".py",
   "mimetype": "text/x-python",
   "name": "python",
   "nbconvert_exporter": "python",
   "pygments_lexer": "ipython3",
   "version": "3.10.2"
  }
 },
 "nbformat": 4,
 "nbformat_minor": 5
}
