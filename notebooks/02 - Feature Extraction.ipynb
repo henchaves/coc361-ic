{
 "cells": [
  {
   "cell_type": "code",
   "execution_count": null,
   "id": "ff4a8aab-b6a5-461d-b035-eb459170f12e",
   "metadata": {},
   "outputs": [],
   "source": [
    "import pandas as pd\n",
    "\n",
    "from rdkit.Chem import Descriptors, MolFromSmiles\n",
    "\n",
    "from tqdm.notebook import tqdm"
   ]
  },
  {
   "cell_type": "code",
   "execution_count": null,
   "id": "65302d98-19be-4296-bafa-b448c581c542",
   "metadata": {},
   "outputs": [],
   "source": [
    "df = pd.read_csv(\"../data/data.csv.gz\", sep=\",\", low_memory=False, index_col=0)"
   ]
  },
  {
   "cell_type": "code",
   "execution_count": null,
   "id": "033f1fd2-575f-4e5e-b503-2be236d53514",
   "metadata": {},
   "outputs": [],
   "source": [
    "df = df.dropna(axis=0).reset_index(drop=True)"
   ]
  },
  {
   "cell_type": "code",
   "execution_count": null,
   "id": "216eb3aa-da4e-4fcd-924d-66f18635c6ba",
   "metadata": {},
   "outputs": [
    {
     "data": {
      "text/html": [
       "<div>\n",
       "<style scoped>\n",
       "    .dataframe tbody tr th:only-of-type {\n",
       "        vertical-align: middle;\n",
       "    }\n",
       "\n",
       "    .dataframe tbody tr th {\n",
       "        vertical-align: top;\n",
       "    }\n",
       "\n",
       "    .dataframe thead th {\n",
       "        text-align: right;\n",
       "    }\n",
       "</style>\n",
       "<table border=\"1\" class=\"dataframe\">\n",
       "  <thead>\n",
       "    <tr style=\"text-align: right;\">\n",
       "      <th></th>\n",
       "      <th>smiles</th>\n",
       "      <th>homolumogap</th>\n",
       "    </tr>\n",
       "  </thead>\n",
       "  <tbody>\n",
       "    <tr>\n",
       "      <th>0</th>\n",
       "      <td>O=C1[N]c2ccncc2[CH][C@@H]1c1ccc(cc1)C</td>\n",
       "      <td>3.047675</td>\n",
       "    </tr>\n",
       "    <tr>\n",
       "      <th>1</th>\n",
       "      <td>COc1cc(OC)ccc1/C=C/N(C(=O)C)C</td>\n",
       "      <td>4.410966</td>\n",
       "    </tr>\n",
       "    <tr>\n",
       "      <th>2</th>\n",
       "      <td>C=CCN(C(=O)C)/C=C/c1ccccc1C</td>\n",
       "      <td>4.639541</td>\n",
       "    </tr>\n",
       "    <tr>\n",
       "      <th>3</th>\n",
       "      <td>C=CCN(C(=O)C)/C=C/c1ccccc1F</td>\n",
       "      <td>4.492600</td>\n",
       "    </tr>\n",
       "    <tr>\n",
       "      <th>4</th>\n",
       "      <td>C=CCN(C(=O)C)/C=C/c1ccccc1Cl</td>\n",
       "      <td>4.612330</td>\n",
       "    </tr>\n",
       "  </tbody>\n",
       "</table>\n",
       "</div>"
      ],
      "text/plain": [
       "                                  smiles  homolumogap\n",
       "0  O=C1[N]c2ccncc2[CH][C@@H]1c1ccc(cc1)C     3.047675\n",
       "1          COc1cc(OC)ccc1/C=C/N(C(=O)C)C     4.410966\n",
       "2            C=CCN(C(=O)C)/C=C/c1ccccc1C     4.639541\n",
       "3            C=CCN(C(=O)C)/C=C/c1ccccc1F     4.492600\n",
       "4           C=CCN(C(=O)C)/C=C/c1ccccc1Cl     4.612330"
      ]
     },
     "metadata": {},
     "output_type": "display_data"
    },
    {
     "name": "stdout",
     "output_type": "stream",
     "text": [
      "df shape: (3452151, 2)\n"
     ]
    }
   ],
   "source": [
    "display(df.head())\n",
    "print(f\"df shape: {df.shape}\")"
   ]
  },
  {
   "cell_type": "code",
   "execution_count": null,
   "id": "570fcceb-8c6d-40b3-bbc2-540ee19e4c0b",
   "metadata": {},
   "outputs": [],
   "source": [
    "df.to_csv(\"../data/data_raw.csv\")"
   ]
  },
  {
   "cell_type": "code",
   "execution_count": null,
   "id": "d3d7da3c-6879-4060-8de2-5502e8726ef9",
   "metadata": {},
   "outputs": [],
   "source": [
    "# df[df[\"smiles\"].str.contains(\"Br\")]"
   ]
  },
  {
   "cell_type": "code",
   "execution_count": null,
   "id": "1a2131f1-b294-4781-8d55-538ca754ebdc",
   "metadata": {},
   "outputs": [
    {
     "name": "stdout",
     "output_type": "stream",
     "text": [
      "Smiles 1: O=C1[N]c2ccncc2[CH][C@@H]1c1ccc(cc1)C\n",
      "Smiles 2: COc1cc(OC)ccc1/C=C/N(C(=O)C)C\n"
     ]
    }
   ],
   "source": [
    "smiles = df.loc[0, \"smiles\"]\n",
    "smiles_2 = df.loc[1, \"smiles\"]\n",
    "print(\"Smiles 1:\", smiles)\n",
    "print(\"Smiles 2:\", smiles_2)"
   ]
  },
  {
   "cell_type": "code",
   "execution_count": null,
   "id": "86c75560-d607-4a34-90cd-25488aeb0179",
   "metadata": {},
   "outputs": [
    {
     "data": {
      "image/png": "[encoded data removed]",
      "text/plain": [
       "<rdkit.Chem.rdchem.Mol at 0x2dee9e17f40>"
      ]
     },
     "metadata": {},
     "output_type": "display_data"
    },
    {
     "name": "stdout",
     "output_type": "stream",
     "text": [
      "Molecule 1\n"
     ]
    }
   ],
   "source": [
    "molecule = MolFromSmiles(smiles)\n",
    "display(molecule)\n",
    "print(\"Molecule 1\")"
   ]
  },
  {
   "cell_type": "code",
   "execution_count": null,
   "id": "c4ac2ed9-2d65-459c-9057-e769f7bccf87",
   "metadata": {},
   "outputs": [
    {
     "data": {
      "image/png": "[encoded data removed]",
      "text/plain": [
       "<rdkit.Chem.rdchem.Mol at 0x2dee9e13100>"
      ]
     },
     "metadata": {},
     "output_type": "display_data"
    },
    {
     "name": "stdout",
     "output_type": "stream",
     "text": [
      "Molecule 2\n"
     ]
    }
   ],
   "source": [
    "molecule_2 = MolFromSmiles(smiles_2)\n",
    "display(molecule_2)\n",
    "print(\"Molecule 2\")"
   ]
  },
  {
   "cell_type": "markdown",
   "id": "f97a8045-fa74-4cd5-be2a-d8f631cc2793",
   "metadata": {
    "jp-MarkdownHeadingCollapsed": true,
    "tags": []
   },
   "source": [
    "## - [RDKit Docs](https://www.rdkit.org/docs/GettingStartedInPython.html)\n",
    "## - [rdkit.Chem.Mol docs](https://www.rdkit.org/docs/source/rdkit.Chem.rdchem.html#rdkit.Chem.rdchem.Mol)\n",
    "## - [rdkit.Chem.Descriptors docs](https://www.rdkit.org/docs/source/rdkit.Chem.Descriptors.html)\n",
    "## - [rdkit.Chem.Atom docs](https://www.rdkit.org/docs/source/rdkit.Chem.rdchem.html#rdkit.Chem.rdchem.Atom)\n",
    "## - [MPNN](https://keras.io/examples/graph/mpnn-molecular-graphs/)"
   ]
  },
  {
   "cell_type": "markdown",
   "id": "01bc6168-88e1-40a1-a474-80626415021d",
   "metadata": {},
   "source": [
    "## Theory links:\n",
    "### - [FP Morgan Density](https://chem.libretexts.org/Courses/Intercollegiate_Courses/Cheminformatics_OLCC_(2019)/6%3A_Molecular_Similarity/6.4%3A_R_Assignment)"
   ]
  },
  {
   "cell_type": "code",
   "execution_count": null,
   "id": "e774b4c3-fc0c-4cd7-b7b9-1e6296875419",
   "metadata": {},
   "outputs": [],
   "source": [
    "class NumOfAtomsByAtomicNumber(Descriptors.PropertyFunctor):\n",
    "    def __init__(self, atomic_number):\n",
    "        Descriptors.PropertyFunctor.__init__(self, \"NumOfAtomsByAtomicNumber\", \"1.0.0\")\n",
    "        self.atomic_number = atomic_number\n",
    "\n",
    "    def __call__(self, mol):\n",
    "        filtered_list = filter(lambda atom: atom.GetAtomicNum() == self.atomic_number, mol.GetAtoms())\n",
    "        return len(list(filtered_list))"
   ]
  },
  {
   "cell_type": "code",
   "execution_count": null,
   "id": "ba08032d-8271-4812-8664-da43541c9dea",
   "metadata": {},
   "outputs": [],
   "source": [
    "NumberOfB = NumOfAtomsByAtomicNumber(atomic_number=5)\n",
    "NumberOfC = NumOfAtomsByAtomicNumber(atomic_number=6)\n",
    "NumberOfN = NumOfAtomsByAtomicNumber(atomic_number=7)\n",
    "NumberOfO = NumOfAtomsByAtomicNumber(atomic_number=8)\n",
    "NumberOfF = NumOfAtomsByAtomicNumber(atomic_number=9)\n",
    "NumberOfSi = NumOfAtomsByAtomicNumber(atomic_number=14)\n",
    "NumberOfP = NumOfAtomsByAtomicNumber(atomic_number=15)\n",
    "NumberOfS = NumOfAtomsByAtomicNumber(atomic_number=16)\n",
    "NumberOfCl = NumOfAtomsByAtomicNumber(atomic_number=17)\n",
    "NumberOfBr = NumOfAtomsByAtomicNumber(atomic_number=35)"
   ]
  },
  {
   "cell_type": "code",
   "execution_count": null,
   "id": "72e2aaa4-da1e-4d5d-b260-b24af125d867",
   "metadata": {},
   "outputs": [],
   "source": [
    "feature_extraction_dict = {\n",
    "    \"number_of_atoms\": \"molecule.GetNumAtoms(onlyExplicit=False)\",\n",
    "    \"number_of_atoms_except_H\": \"molecule.GetNumAtoms(onlyExplicit=True)\",\n",
    "    \"number_of_bonds\": \"molecule.GetNumBonds(onlyHeavy=0)\",\n",
    "    \"number_of_heavy_bonds\": \"molecule.GetNumBonds(onlyHeavy=1)\",\n",
    "    \"number_of_conformations\": \"molecule.GetNumConformers()\",\n",
    "    \"number_of_heavy_atoms\": \"molecule.GetNumHeavyAtoms()\",\n",
    "    \"exact_mol_weight\": \"Descriptors.ExactMolWt(molecule)\",\n",
    "    \"average_mol_weight\": \"Descriptors.MolWt(molecule)\",\n",
    "    \"heavy_mol_weight\": \"Descriptors.HeavyAtomMolWt(molecule)\",\n",
    "    \"number_of_radical_electrons\": \"Descriptors.NumRadicalElectrons(molecule)\",\n",
    "    \"number_of_valence_electrons\": \"Descriptors.NumValenceElectrons(molecule)\",\n",
    "    \"fp_morgan_density_1\": \"Descriptors.FpDensityMorgan1(molecule)\",\n",
    "    \"fp_morgan_density_2\": \"Descriptors.FpDensityMorgan2(molecule)\",\n",
    "    \"fp_morgan_density_3\": \"Descriptors.FpDensityMorgan3(molecule)\",\n",
    "    \"max_absolute_partial_charge\": \"Descriptors.MaxAbsPartialCharge(molecule)\",\n",
    "    \"min_absolute_partial_charge\": \"Descriptors.MinAbsPartialCharge(molecule)\",\n",
    "    \"max_partial_charge\": \"Descriptors.MaxPartialCharge(molecule)\",\n",
    "    \"min_partial_charge\": \"Descriptors.MinPartialCharge(molecule)\",\n",
    "    \"number_of_B_atoms\": \"NumberOfB(molecule)\",\n",
    "    \"number_of_C_atoms\": \"NumberOfC(molecule)\",\n",
    "    \"number_of_N_atoms\": \"NumberOfN(molecule)\",\n",
    "    \"number_of_O_atoms\": \"NumberOfO(molecule)\",\n",
    "    \"number_of_F_atoms\": \"NumberOfF(molecule)\",\n",
    "    \"number_of_Si_atoms\": \"NumberOfSi(molecule)\",\n",
    "    \"number_of_P_atoms\": \"NumberOfP(molecule)\",\n",
    "    \"number_of_S_atoms\": \"NumberOfS(molecule)\",\n",
    "    \"number_of_Cl_atoms\": \"NumberOfCl(molecule)\",\n",
    "    \"number_of_Br_atoms\": \"NumberOfBr(molecule)\",\n",
    "}"
   ]
  },
  {
   "cell_type": "code",
   "execution_count": null,
   "id": "aaf857ac-d814-4594-8919-3c3741dc7dc4",
   "metadata": {},
   "outputs": [],
   "source": [
    "df_features = df.copy()"
   ]
  },
  {
   "cell_type": "code",
   "execution_count": null,
   "id": "bb204535-befc-4f6e-9c23-fde5753f3759",
   "metadata": {},
   "outputs": [],
   "source": [
    "def extract_feature_from_molecule(smiles, str_method):\n",
    "    molecule = MolFromSmiles(smiles)\n",
    "    return eval(str_method)"
   ]
  },
  {
   "cell_type": "code",
   "execution_count": null,
   "id": "1c5114d0-f285-4edf-801e-84efc5a445da",
   "metadata": {},
   "outputs": [
    {
     "name": "stdout",
     "output_type": "stream",
     "text": [
      "Extracting feature 'number_of_atoms'... OK\n",
      "Extracting feature 'number_of_atoms_except_H'... OK\n",
      "Extracting feature 'number_of_bonds'..."
     ]
    }
   ],
   "source": [
    "for k in list(feature_extraction_dict.keys()):\n",
    "    print(f\"Extracting feature '{k}'...\", end=\"\")\n",
    "    df_features[k] = df_features[\"smiles\"].apply(lambda smiles: extract_feature_from_molecule(smiles, feature_extraction_dict[k]))\n",
    "    print(\" OK\")"
   ]
  },
  {
   "cell_type": "code",
   "execution_count": null,
   "id": "45308058-9356-41f5-89f2-3ceef59ad8b9",
   "metadata": {},
   "outputs": [],
   "source": [
    "df_features.head()"
   ]
  },
  {
   "cell_type": "code",
   "execution_count": null,
   "id": "18aeaae2-d479-462d-80bb-bc1f1a6274c7",
   "metadata": {},
   "outputs": [],
   "source": [
    "df_features.to_csv(\"../data/df_features.csv\")"
   ]
  },
  {
   "cell_type": "code",
   "execution_count": null,
   "id": "30d3a966",
   "metadata": {},
   "outputs": [],
   "source": [
    "import pandas as pd\n",
    "\n",
    "from rdkit.Chem import Descriptors, MolFromSmiles\n",
    "\n",
    "from tqdm.notebook import tqdm"
   ]
  },
  {
   "cell_type": "code",
   "execution_count": null,
   "id": "65302d98-19be-4296-bafa-b448c581c542",
   "metadata": {},
   "outputs": [],
   "source": [
    "df = pd.read_csv(\"../data/data.csv.gz\", sep=\",\", low_memory=False, index_col=0)"
   ]
  },
  {
   "cell_type": "code",
   "execution_count": null,
   "id": "033f1fd2-575f-4e5e-b503-2be236d53514",
   "metadata": {},
   "outputs": [],
   "source": [
    "df = df.dropna(axis=0).reset_index(drop=True)"
   ]
  },
  {
   "cell_type": "code",
   "execution_count": null,
   "id": "216eb3aa-da4e-4fcd-924d-66f18635c6ba",
   "metadata": {},
   "outputs": [
    {
     "data": {
      "text/html": [
       "<div>\n",
       "<style scoped>\n",
       "    .dataframe tbody tr th:only-of-type {\n",
       "        vertical-align: middle;\n",
       "    }\n",
       "\n",
       "    .dataframe tbody tr th {\n",
       "        vertical-align: top;\n",
       "    }\n",
       "\n",
       "    .dataframe thead th {\n",
       "        text-align: right;\n",
       "    }\n",
       "</style>\n",
       "<table border=\"1\" class=\"dataframe\">\n",
       "  <thead>\n",
       "    <tr style=\"text-align: right;\">\n",
       "      <th></th>\n",
       "      <th>smiles</th>\n",
       "      <th>homolumogap</th>\n",
       "    </tr>\n",
       "  </thead>\n",
       "  <tbody>\n",
       "    <tr>\n",
       "      <th>0</th>\n",
       "      <td>O=C1[N]c2ccncc2[CH][C@@H]1c1ccc(cc1)C</td>\n",
       "      <td>3.047675</td>\n",
       "    </tr>\n",
       "    <tr>\n",
       "      <th>1</th>\n",
       "      <td>COc1cc(OC)ccc1/C=C/N(C(=O)C)C</td>\n",
       "      <td>4.410966</td>\n",
       "    </tr>\n",
       "    <tr>\n",
       "      <th>2</th>\n",
       "      <td>C=CCN(C(=O)C)/C=C/c1ccccc1C</td>\n",
       "      <td>4.639541</td>\n",
       "    </tr>\n",
       "    <tr>\n",
       "      <th>3</th>\n",
       "      <td>C=CCN(C(=O)C)/C=C/c1ccccc1F</td>\n",
       "      <td>4.492600</td>\n",
       "    </tr>\n",
       "    <tr>\n",
       "      <th>4</th>\n",
       "      <td>C=CCN(C(=O)C)/C=C/c1ccccc1Cl</td>\n",
       "      <td>4.612330</td>\n",
       "    </tr>\n",
       "  </tbody>\n",
       "</table>\n",
       "</div>"
      ],
      "text/plain": [
       "                                  smiles  homolumogap\n",
       "0  O=C1[N]c2ccncc2[CH][C@@H]1c1ccc(cc1)C     3.047675\n",
       "1          COc1cc(OC)ccc1/C=C/N(C(=O)C)C     4.410966\n",
       "2            C=CCN(C(=O)C)/C=C/c1ccccc1C     4.639541\n",
       "3            C=CCN(C(=O)C)/C=C/c1ccccc1F     4.492600\n",
       "4           C=CCN(C(=O)C)/C=C/c1ccccc1Cl     4.612330"
      ]
     },
     "metadata": {},
     "output_type": "display_data"
    },
    {
     "name": "stdout",
     "output_type": "stream",
     "text": [
      "df shape: (3452151, 2)\n"
     ]
    }
   ],
   "source": [
    "display(df.head())\n",
    "print(f\"df shape: {df.shape}\")"
   ]
  },
  {
   "cell_type": "code",
   "execution_count": null,
   "id": "570fcceb-8c6d-40b3-bbc2-540ee19e4c0b",
   "metadata": {},
   "outputs": [],
   "source": [
    "df.to_csv(\"../data/data_raw.csv\")"
   ]
  },
  {
   "cell_type": "code",
   "execution_count": null,
   "id": "d3d7da3c-6879-4060-8de2-5502e8726ef9",
   "metadata": {},
   "outputs": [],
   "source": [
    "# df[df[\"smiles\"].str.contains(\"Br\")]"
   ]
  },
  {
   "cell_type": "code",
   "execution_count": null,
   "id": "1a2131f1-b294-4781-8d55-538ca754ebdc",
   "metadata": {},
   "outputs": [
    {
     "name": "stdout",
     "output_type": "stream",
     "text": [
      "Smiles 1: O=C1[N]c2ccncc2[CH][C@@H]1c1ccc(cc1)C\n",
      "Smiles 2: COc1cc(OC)ccc1/C=C/N(C(=O)C)C\n"
     ]
    }
   ],
   "source": [
    "smiles = df.loc[0, \"smiles\"]\n",
    "smiles_2 = df.loc[1, \"smiles\"]\n",
    "print(\"Smiles 1:\", smiles)\n",
    "print(\"Smiles 2:\", smiles_2)"
   ]
  },
  {
   "cell_type": "code",
   "execution_count": null,
   "id": "86c75560-d607-4a34-90cd-25488aeb0179",
   "metadata": {},
   "outputs": [
    {
     "data": {
      "image/png": "[encoded data removed]",
      "text/plain": [
       "<rdkit.Chem.rdchem.Mol at 0x2dee9e17f40>"
      ]
     },
     "metadata": {},
     "output_type": "display_data"
    },
    {
     "name": "stdout",
     "output_type": "stream",
     "text": [
      "Molecule 1\n"
     ]
    }
   ],
   "source": [
    "molecule = MolFromSmiles(smiles)\n",
    "display(molecule)\n",
    "print(\"Molecule 1\")"
   ]
  },
  {
   "cell_type": "code",
   "execution_count": null,
   "id": "c4ac2ed9-2d65-459c-9057-e769f7bccf87",
   "metadata": {},
   "outputs": [
    {
     "data": {
      "image/png": "[encoded data removed]",
      "text/plain": [
       "<rdkit.Chem.rdchem.Mol at 0x2dee9e13100>"
      ]
     },
     "metadata": {},
     "output_type": "display_data"
    },
    {
     "name": "stdout",
     "output_type": "stream",
     "text": [
      "Molecule 2\n"
     ]
    }
   ],
   "source": [
    "molecule_2 = MolFromSmiles(smiles_2)\n",
    "display(molecule_2)\n",
    "print(\"Molecule 2\")"
   ]
  },
  {
   "cell_type": "markdown",
   "id": "f97a8045-fa74-4cd5-be2a-d8f631cc2793",
   "metadata": {
    "jp-MarkdownHeadingCollapsed": true,
    "tags": []
   },
   "source": [
    "## - [RDKit Docs](https://www.rdkit.org/docs/GettingStartedInPython.html)\n",
    "## - [rdkit.Chem.Mol docs](https://www.rdkit.org/docs/source/rdkit.Chem.rdchem.html#rdkit.Chem.rdchem.Mol)\n",
    "## - [rdkit.Chem.Descriptors docs](https://www.rdkit.org/docs/source/rdkit.Chem.Descriptors.html)\n",
    "## - [rdkit.Chem.Atom docs](https://www.rdkit.org/docs/source/rdkit.Chem.rdchem.html#rdkit.Chem.rdchem.Atom)\n",
    "## - [MPNN](https://keras.io/examples/graph/mpnn-molecular-graphs/)"
   ]
  },
  {
   "cell_type": "markdown",
   "id": "01bc6168-88e1-40a1-a474-80626415021d",
   "metadata": {},
   "source": [
    "## Theory links:\n",
    "### - [FP Morgan Density](https://chem.libretexts.org/Courses/Intercollegiate_Courses/Cheminformatics_OLCC_(2019)/6%3A_Molecular_Similarity/6.4%3A_R_Assignment)"
   ]
  },
  {
   "cell_type": "code",
   "execution_count": null,
   "id": "e774b4c3-fc0c-4cd7-b7b9-1e6296875419",
   "metadata": {},
   "outputs": [],
   "source": [
    "class NumOfAtomsByAtomicNumber(Descriptors.PropertyFunctor):\n",
    "    def __init__(self, atomic_number):\n",
    "        Descriptors.PropertyFunctor.__init__(self, \"NumOfAtomsByAtomicNumber\", \"1.0.0\")\n",
    "        self.atomic_number = atomic_number\n",
    "\n",
    "    def __call__(self, mol):\n",
    "        filtered_list = filter(lambda atom: atom.GetAtomicNum() == self.atomic_number, mol.GetAtoms())\n",
    "        return len(list(filtered_list))"
   ]
  },
  {
   "cell_type": "code",
   "execution_count": null,
   "id": "ba08032d-8271-4812-8664-da43541c9dea",
   "metadata": {},
   "outputs": [],
   "source": [
    "NumberOfB = NumOfAtomsByAtomicNumber(atomic_number=5)\n",
    "NumberOfC = NumOfAtomsByAtomicNumber(atomic_number=6)\n",
    "NumberOfN = NumOfAtomsByAtomicNumber(atomic_number=7)\n",
    "NumberOfO = NumOfAtomsByAtomicNumber(atomic_number=8)\n",
    "NumberOfF = NumOfAtomsByAtomicNumber(atomic_number=9)\n",
    "NumberOfSi = NumOfAtomsByAtomicNumber(atomic_number=14)\n",
    "NumberOfP = NumOfAtomsByAtomicNumber(atomic_number=15)\n",
    "NumberOfS = NumOfAtomsByAtomicNumber(atomic_number=16)\n",
    "NumberOfCl = NumOfAtomsByAtomicNumber(atomic_number=17)\n",
    "NumberOfBr = NumOfAtomsByAtomicNumber(atomic_number=35)"
   ]
  },
  {
   "cell_type": "code",
   "execution_count": null,
   "id": "72e2aaa4-da1e-4d5d-b260-b24af125d867",
   "metadata": {},
   "outputs": [],
   "source": [
    "feature_extraction_dict = {\n",
    "    \"number_of_atoms\": \"molecule.GetNumAtoms(onlyExplicit=False)\",\n",
    "    \"number_of_atoms_except_H\": \"molecule.GetNumAtoms(onlyExplicit=True)\",\n",
    "    \"number_of_bonds\": \"molecule.GetNumBonds(onlyHeavy=0)\",\n",
    "    \"number_of_heavy_bonds\": \"molecule.GetNumBonds(onlyHeavy=1)\",\n",
    "    \"number_of_conformations\": \"molecule.GetNumConformers()\",\n",
    "    \"number_of_heavy_atoms\": \"molecule.GetNumHeavyAtoms()\",\n",
    "    \"exact_mol_weight\": \"Descriptors.ExactMolWt(molecule)\",\n",
    "    \"average_mol_weight\": \"Descriptors.MolWt(molecule)\",\n",
    "    \"heavy_mol_weight\": \"Descriptors.HeavyAtomMolWt(molecule)\",\n",
    "    \"number_of_radical_electrons\": \"Descriptors.NumRadicalElectrons(molecule)\",\n",
    "    \"number_of_valence_electrons\": \"Descriptors.NumValenceElectrons(molecule)\",\n",
    "    \"fp_morgan_density_1\": \"Descriptors.FpDensityMorgan1(molecule)\",\n",
    "    \"fp_morgan_density_2\": \"Descriptors.FpDensityMorgan2(molecule)\",\n",
    "    \"fp_morgan_density_3\": \"Descriptors.FpDensityMorgan3(molecule)\",\n",
    "    \"max_absolute_partial_charge\": \"Descriptors.MaxAbsPartialCharge(molecule)\",\n",
    "    \"min_absolute_partial_charge\": \"Descriptors.MinAbsPartialCharge(molecule)\",\n",
    "    \"max_partial_charge\": \"Descriptors.MaxPartialCharge(molecule)\",\n",
    "    \"min_partial_charge\": \"Descriptors.MinPartialCharge(molecule)\",\n",
    "    \"number_of_B_atoms\": \"NumberOfB(molecule)\",\n",
    "    \"number_of_C_atoms\": \"NumberOfC(molecule)\",\n",
    "    \"number_of_N_atoms\": \"NumberOfN(molecule)\",\n",
    "    \"number_of_O_atoms\": \"NumberOfO(molecule)\",\n",
    "    \"number_of_F_atoms\": \"NumberOfF(molecule)\",\n",
    "    \"number_of_Si_atoms\": \"NumberOfSi(molecule)\",\n",
    "    \"number_of_P_atoms\": \"NumberOfP(molecule)\",\n",
    "    \"number_of_S_atoms\": \"NumberOfS(molecule)\",\n",
    "    \"number_of_Cl_atoms\": \"NumberOfCl(molecule)\",\n",
    "    \"number_of_Br_atoms\": \"NumberOfBr(molecule)\",\n",
    "}"
   ]
  },
  {
   "cell_type": "code",
   "execution_count": null,
   "id": "aaf857ac-d814-4594-8919-3c3741dc7dc4",
   "metadata": {},
   "outputs": [],
   "source": [
    "df_features = df.copy()"
   ]
  },
  {
   "cell_type": "code",
   "execution_count": null,
   "id": "bb204535-befc-4f6e-9c23-fde5753f3759",
   "metadata": {},
   "outputs": [],
   "source": [
    "def extract_feature_from_molecule(smiles, str_method):\n",
    "    molecule = MolFromSmiles(smiles)\n",
    "    return eval(str_method)"
   ]
  },
  {
   "cell_type": "code",
   "execution_count": null,
   "id": "1c5114d0-f285-4edf-801e-84efc5a445da",
   "metadata": {},
   "outputs": [
    {
     "name": "stdout",
     "output_type": "stream",
     "text": [
      "Extracting feature 'number_of_atoms'... OK\n",
      "Extracting feature 'number_of_atoms_except_H'... OK\n",
      "Extracting feature 'number_of_bonds'..."
     ]
    }
   ],
   "source": [
    "for k in list(feature_extraction_dict.keys()):\n",
    "    print(f\"Extracting feature '{k}'...\", end=\"\")\n",
    "    df_features[k] = df_features[\"smiles\"].apply(lambda smiles: extract_feature_from_molecule(smiles, feature_extraction_dict[k]))\n",
    "    print(\" OK\")"
   ]
  },
  {
   "cell_type": "code",
   "execution_count": null,
   "id": "45308058-9356-41f5-89f2-3ceef59ad8b9",
   "metadata": {},
   "outputs": [],
   "source": [
    "df_features.head()"
   ]
  },
  {
   "cell_type": "code",
   "execution_count": null,
   "id": "18aeaae2-d479-462d-80bb-bc1f1a6274c7",
   "metadata": {},
   "outputs": [],
   "source": [
    "df_features.to_csv(\"../data/df_features.csv\")"
   ]
  }
 ],
 "metadata": {
  "kernelspec": {
   "display_name": "Python 3 (ipykernel)",
   "language": "python",
   "name": "python3"
  },
  "language_info": {
   "codemirror_mode": {
    "name": "ipython",
    "version": 3
   },
   "file_extension": ".py",
   "mimetype": "text/x-python",
   "name": "python",
   "nbconvert_exporter": "python",
   "pygments_lexer": "ipython3",
   "version": "3.9.7"
  }
 },
 "nbformat": 4,
 "nbformat_minor": 5
}
