{
 "cells": [
  {
   "cell_type": "code",
   "execution_count": 1,
   "id": "e7273394-b106-415e-b923-b8ac911b4d3b",
   "metadata": {},
   "outputs": [],
   "source": [
    "import numpy as np\n",
    "from sklearn.tree import DecisionTreeRegressor\n",
    "from sklearn.model_selection import GridSearchCV\n",
    "from sklearn.metrics import r2_score, mean_squared_error\n",
    "import pickle"
   ]
  },
  {
   "cell_type": "code",
   "execution_count": 2,
   "id": "5c8c8897-7ff9-42a7-955f-d9b6e4651843",
   "metadata": {},
   "outputs": [],
   "source": [
    "X = np.load(\"../data/X_train_scaled.npy\", allow_pickle=True)\n",
    "y = np.load(\"../data/y_train_scaled.npy\", allow_pickle=True)"
   ]
  },
  {
   "cell_type": "code",
   "execution_count": 3,
   "id": "f699cb19-cc74-4c54-a6ca-1c8eda6ae335",
   "metadata": {},
   "outputs": [
    {
     "name": "stdout",
     "output_type": "stream",
     "text": [
      "X shape: (3104579, 26)\n",
      "y shape: (3104579, 1)\n"
     ]
    }
   ],
   "source": [
    "print(\"X shape:\", X.shape)\n",
    "print(\"y shape:\", y.shape)"
   ]
  },
  {
   "cell_type": "code",
   "execution_count": 4,
   "id": "63d2a9da-2d65-4267-8c72-a8d2eaa54a97",
   "metadata": {},
   "outputs": [],
   "source": [
    "dtr = DecisionTreeRegressor()"
   ]
  },
  {
   "cell_type": "code",
   "execution_count": 5,
   "id": "6fadaf14-56b2-4daa-90d1-fb6913d0c82f",
   "metadata": {},
   "outputs": [],
   "source": [
    "param_grid = {\n",
    "    \"splitter\":[\"best\",\"random\"],\n",
    "    \"max_depth\": [2,6,12]\n",
    "}"
   ]
  },
  {
   "cell_type": "code",
   "execution_count": 6,
   "id": "27d4a3e2-c00b-4cb9-bca2-e9d52b746e86",
   "metadata": {},
   "outputs": [],
   "source": [
    "grid_search = GridSearchCV(\n",
    "    dtr,\n",
    "    param_grid,\n",
    "    scoring=\"neg_mean_squared_error\",\n",
    "    cv=10,\n",
    "    verbose=10\n",
    ")"
   ]
  },
  {
   "cell_type": "code",
   "execution_count": 7,
   "id": "8d7c1302-7ee2-4992-9554-7518fb0cb453",
   "metadata": {},
   "outputs": [
    {
     "name": "stdout",
     "output_type": "stream",
     "text": [
      "Fitting 10 folds for each of 6 candidates, totalling 60 fits\n",
      "[CV 1/10; 1/6] START max_depth=2, splitter=best.................................\n",
      "[CV 1/10; 1/6] END .max_depth=2, splitter=best;, score=-0.986 total time=   7.4s\n",
      "[CV 2/10; 1/6] START max_depth=2, splitter=best.................................\n",
      "[CV 2/10; 1/6] END .max_depth=2, splitter=best;, score=-0.777 total time=   7.5s\n",
      "[CV 3/10; 1/6] START max_depth=2, splitter=best.................................\n",
      "[CV 3/10; 1/6] END .max_depth=2, splitter=best;, score=-0.663 total time=   7.2s\n",
      "[CV 4/10; 1/6] START max_depth=2, splitter=best.................................\n",
      "[CV 4/10; 1/6] END .max_depth=2, splitter=best;, score=-0.606 total time=   6.9s\n",
      "[CV 5/10; 1/6] START max_depth=2, splitter=best.................................\n",
      "[CV 5/10; 1/6] END .max_depth=2, splitter=best;, score=-0.728 total time=   7.3s\n",
      "[CV 6/10; 1/6] START max_depth=2, splitter=best.................................\n",
      "[CV 6/10; 1/6] END .max_depth=2, splitter=best;, score=-1.011 total time=   7.2s\n",
      "[CV 7/10; 1/6] START max_depth=2, splitter=best.................................\n",
      "[CV 7/10; 1/6] END .max_depth=2, splitter=best;, score=-0.761 total time=   7.3s\n",
      "[CV 8/10; 1/6] START max_depth=2, splitter=best.................................\n",
      "[CV 8/10; 1/6] END .max_depth=2, splitter=best;, score=-0.920 total time=   7.3s\n",
      "[CV 9/10; 1/6] START max_depth=2, splitter=best.................................\n",
      "[CV 9/10; 1/6] END .max_depth=2, splitter=best;, score=-0.964 total time=   7.3s\n",
      "[CV 10/10; 1/6] START max_depth=2, splitter=best................................\n",
      "[CV 10/10; 1/6] END max_depth=2, splitter=best;, score=-0.945 total time=   7.5s\n",
      "[CV 1/10; 2/6] START max_depth=2, splitter=random...............................\n",
      "[CV 1/10; 2/6] END max_depth=2, splitter=random;, score=-1.059 total time=   1.8s\n",
      "[CV 2/10; 2/6] START max_depth=2, splitter=random...............................\n",
      "[CV 2/10; 2/6] END max_depth=2, splitter=random;, score=-0.845 total time=   1.7s\n",
      "[CV 3/10; 2/6] START max_depth=2, splitter=random...............................\n",
      "[CV 3/10; 2/6] END max_depth=2, splitter=random;, score=-0.857 total time=   1.6s\n",
      "[CV 4/10; 2/6] START max_depth=2, splitter=random...............................\n",
      "[CV 4/10; 2/6] END max_depth=2, splitter=random;, score=-0.712 total time=   1.6s\n",
      "[CV 5/10; 2/6] START max_depth=2, splitter=random...............................\n",
      "[CV 5/10; 2/6] END max_depth=2, splitter=random;, score=-0.775 total time=   1.8s\n",
      "[CV 6/10; 2/6] START max_depth=2, splitter=random...............................\n",
      "[CV 6/10; 2/6] END max_depth=2, splitter=random;, score=-1.052 total time=   1.9s\n",
      "[CV 7/10; 2/6] START max_depth=2, splitter=random...............................\n",
      "[CV 7/10; 2/6] END max_depth=2, splitter=random;, score=-0.827 total time=   1.8s\n",
      "[CV 8/10; 2/6] START max_depth=2, splitter=random...............................\n",
      "[CV 8/10; 2/6] END max_depth=2, splitter=random;, score=-0.973 total time=   1.8s\n",
      "[CV 9/10; 2/6] START max_depth=2, splitter=random...............................\n",
      "[CV 9/10; 2/6] END max_depth=2, splitter=random;, score=-0.979 total time=   1.6s\n",
      "[CV 10/10; 2/6] START max_depth=2, splitter=random..............................\n",
      "[CV 10/10; 2/6] END max_depth=2, splitter=random;, score=-1.030 total time=   1.9s\n",
      "[CV 1/10; 3/6] START max_depth=6, splitter=best.................................\n",
      "[CV 1/10; 3/6] END .max_depth=6, splitter=best;, score=-0.692 total time=  20.2s\n",
      "[CV 2/10; 3/6] START max_depth=6, splitter=best.................................\n",
      "[CV 2/10; 3/6] END .max_depth=6, splitter=best;, score=-0.504 total time=  20.4s\n",
      "[CV 3/10; 3/6] START max_depth=6, splitter=best.................................\n",
      "[CV 3/10; 3/6] END .max_depth=6, splitter=best;, score=-0.364 total time=  20.2s\n",
      "[CV 4/10; 3/6] START max_depth=6, splitter=best.................................\n",
      "[CV 4/10; 3/6] END .max_depth=6, splitter=best;, score=-0.370 total time=  20.9s\n",
      "[CV 5/10; 3/6] START max_depth=6, splitter=best.................................\n",
      "[CV 5/10; 3/6] END .max_depth=6, splitter=best;, score=-0.448 total time=  21.1s\n",
      "[CV 6/10; 3/6] START max_depth=6, splitter=best.................................\n",
      "[CV 6/10; 3/6] END .max_depth=6, splitter=best;, score=-0.666 total time=  20.8s\n",
      "[CV 7/10; 3/6] START max_depth=6, splitter=best.................................\n",
      "[CV 7/10; 3/6] END .max_depth=6, splitter=best;, score=-0.507 total time=  20.5s\n",
      "[CV 8/10; 3/6] START max_depth=6, splitter=best.................................\n",
      "[CV 8/10; 3/6] END .max_depth=6, splitter=best;, score=-0.624 total time=  20.9s\n",
      "[CV 9/10; 3/6] START max_depth=6, splitter=best.................................\n",
      "[CV 9/10; 3/6] END .max_depth=6, splitter=best;, score=-0.674 total time=  20.8s\n",
      "[CV 10/10; 3/6] START max_depth=6, splitter=best................................\n",
      "[CV 10/10; 3/6] END max_depth=6, splitter=best;, score=-0.672 total time=  21.2s\n",
      "[CV 1/10; 4/6] START max_depth=6, splitter=random...............................\n",
      "[CV 1/10; 4/6] END max_depth=6, splitter=random;, score=-0.850 total time=   5.2s\n",
      "[CV 2/10; 4/6] START max_depth=6, splitter=random...............................\n",
      "[CV 2/10; 4/6] END max_depth=6, splitter=random;, score=-0.686 total time=   5.2s\n",
      "[CV 3/10; 4/6] START max_depth=6, splitter=random...............................\n",
      "[CV 3/10; 4/6] END max_depth=6, splitter=random;, score=-0.565 total time=   5.1s\n",
      "[CV 4/10; 4/6] START max_depth=6, splitter=random...............................\n",
      "[CV 4/10; 4/6] END max_depth=6, splitter=random;, score=-0.523 total time=   5.2s\n",
      "[CV 5/10; 4/6] START max_depth=6, splitter=random...............................\n",
      "[CV 5/10; 4/6] END max_depth=6, splitter=random;, score=-0.508 total time=   5.2s\n",
      "[CV 6/10; 4/6] START max_depth=6, splitter=random...............................\n",
      "[CV 6/10; 4/6] END max_depth=6, splitter=random;, score=-0.811 total time=   5.0s\n",
      "[CV 7/10; 4/6] START max_depth=6, splitter=random...............................\n",
      "[CV 7/10; 4/6] END max_depth=6, splitter=random;, score=-0.628 total time=   5.2s\n",
      "[CV 8/10; 4/6] START max_depth=6, splitter=random...............................\n",
      "[CV 8/10; 4/6] END max_depth=6, splitter=random;, score=-0.721 total time=   5.1s\n",
      "[CV 9/10; 4/6] START max_depth=6, splitter=random...............................\n",
      "[CV 9/10; 4/6] END max_depth=6, splitter=random;, score=-0.908 total time=   5.0s\n",
      "[CV 10/10; 4/6] START max_depth=6, splitter=random..............................\n",
      "[CV 10/10; 4/6] END max_depth=6, splitter=random;, score=-0.698 total time=   5.3s\n",
      "[CV 1/10; 5/6] START max_depth=12, splitter=best................................\n",
      "[CV 1/10; 5/6] END max_depth=12, splitter=best;, score=-0.449 total time=  33.8s\n",
      "[CV 2/10; 5/6] START max_depth=12, splitter=best................................\n",
      "[CV 2/10; 5/6] END max_depth=12, splitter=best;, score=-0.306 total time=  34.3s\n",
      "[CV 3/10; 5/6] START max_depth=12, splitter=best................................\n",
      "[CV 3/10; 5/6] END max_depth=12, splitter=best;, score=-0.214 total time=  33.9s\n",
      "[CV 4/10; 5/6] START max_depth=12, splitter=best................................\n",
      "[CV 4/10; 5/6] END max_depth=12, splitter=best;, score=-0.220 total time=  34.2s\n",
      "[CV 5/10; 5/6] START max_depth=12, splitter=best................................\n",
      "[CV 5/10; 5/6] END max_depth=12, splitter=best;, score=-0.277 total time=  34.5s\n",
      "[CV 6/10; 5/6] START max_depth=12, splitter=best................................\n",
      "[CV 6/10; 5/6] END max_depth=12, splitter=best;, score=-0.410 total time=  34.0s\n",
      "[CV 7/10; 5/6] START max_depth=12, splitter=best................................\n",
      "[CV 7/10; 5/6] END max_depth=12, splitter=best;, score=-0.326 total time=  33.7s\n",
      "[CV 8/10; 5/6] START max_depth=12, splitter=best................................\n",
      "[CV 8/10; 5/6] END max_depth=12, splitter=best;, score=-0.382 total time=  33.9s\n",
      "[CV 9/10; 5/6] START max_depth=12, splitter=best................................\n",
      "[CV 9/10; 5/6] END max_depth=12, splitter=best;, score=-0.423 total time=  33.9s\n",
      "[CV 10/10; 5/6] START max_depth=12, splitter=best...............................\n",
      "[CV 10/10; 5/6] END max_depth=12, splitter=best;, score=-0.441 total time=  33.4s\n",
      "[CV 1/10; 6/6] START max_depth=12, splitter=random..............................\n",
      "[CV 1/10; 6/6] END max_depth=12, splitter=random;, score=-0.566 total time=   8.1s\n",
      "[CV 2/10; 6/6] START max_depth=12, splitter=random..............................\n",
      "[CV 2/10; 6/6] END max_depth=12, splitter=random;, score=-0.388 total time=   7.8s\n",
      "[CV 3/10; 6/6] START max_depth=12, splitter=random..............................\n",
      "[CV 3/10; 6/6] END max_depth=12, splitter=random;, score=-0.336 total time=   8.5s\n",
      "[CV 4/10; 6/6] START max_depth=12, splitter=random..............................\n",
      "[CV 4/10; 6/6] END max_depth=12, splitter=random;, score=-0.257 total time=   8.1s\n",
      "[CV 5/10; 6/6] START max_depth=12, splitter=random..............................\n",
      "[CV 5/10; 6/6] END max_depth=12, splitter=random;, score=-0.334 total time=   8.0s\n",
      "[CV 6/10; 6/6] START max_depth=12, splitter=random..............................\n",
      "[CV 6/10; 6/6] END max_depth=12, splitter=random;, score=-0.516 total time=   8.1s\n",
      "[CV 7/10; 6/6] START max_depth=12, splitter=random..............................\n",
      "[CV 7/10; 6/6] END max_depth=12, splitter=random;, score=-0.412 total time=   7.8s\n",
      "[CV 8/10; 6/6] START max_depth=12, splitter=random..............................\n",
      "[CV 8/10; 6/6] END max_depth=12, splitter=random;, score=-0.450 total time=   8.1s\n",
      "[CV 9/10; 6/6] START max_depth=12, splitter=random..............................\n",
      "[CV 9/10; 6/6] END max_depth=12, splitter=random;, score=-0.461 total time=   7.9s\n",
      "[CV 10/10; 6/6] START max_depth=12, splitter=random.............................\n",
      "[CV 10/10; 6/6] END max_depth=12, splitter=random;, score=-0.490 total time=   8.4s\n"
     ]
    },
    {
     "data": {
      "text/plain": [
       "GridSearchCV(cv=10, estimator=DecisionTreeRegressor(),\n",
       "             param_grid={'max_depth': [2, 6, 12],\n",
       "                         'splitter': ['best', 'random']},\n",
       "             scoring='neg_mean_squared_error', verbose=10)"
      ]
     },
     "execution_count": 7,
     "metadata": {},
     "output_type": "execute_result"
    }
   ],
   "source": [
    "np.random.seed(2907)\n",
    "grid_search.fit(X, y)"
   ]
  },
  {
   "cell_type": "code",
   "execution_count": 8,
   "id": "c2be43c4-834f-47e4-b748-40d8fb57a874",
   "metadata": {},
   "outputs": [
    {
     "name": "stdout",
     "output_type": "stream",
     "text": [
      "GridSearch results:\n"
     ]
    },
    {
     "data": {
      "text/plain": [
       "{'mean_fit_time': array([ 7.29052346,  1.74035494, 20.70936797,  5.11392949, 33.93177483,\n",
       "         8.02619903]),\n",
       " 'std_fit_time': array([0.15019602, 0.11779713, 0.33531936, 0.08396749, 0.30240844,\n",
       "        0.21710341]),\n",
       " 'mean_score_time': array([0.01354132, 0.01313772, 0.02033403, 0.01886063, 0.03406024,\n",
       "        0.03253558]),\n",
       " 'std_score_time': array([0.00095661, 0.00040644, 0.00028913, 0.00079631, 0.00065641,\n",
       "        0.00135057]),\n",
       " 'param_max_depth': masked_array(data=[2, 2, 6, 6, 12, 12],\n",
       "              mask=[False, False, False, False, False, False],\n",
       "        fill_value='?',\n",
       "             dtype=object),\n",
       " 'param_splitter': masked_array(data=['best', 'random', 'best', 'random', 'best', 'random'],\n",
       "              mask=[False, False, False, False, False, False],\n",
       "        fill_value='?',\n",
       "             dtype=object),\n",
       " 'params': [{'max_depth': 2, 'splitter': 'best'},\n",
       "  {'max_depth': 2, 'splitter': 'random'},\n",
       "  {'max_depth': 6, 'splitter': 'best'},\n",
       "  {'max_depth': 6, 'splitter': 'random'},\n",
       "  {'max_depth': 12, 'splitter': 'best'},\n",
       "  {'max_depth': 12, 'splitter': 'random'}],\n",
       " 'split0_test_score': array([-0.98598635, -1.05853748, -0.69184084, -0.8497148 , -0.4485362 ,\n",
       "        -0.56592464]),\n",
       " 'split1_test_score': array([-0.77712753, -0.84514536, -0.50405063, -0.68585126, -0.306145  ,\n",
       "        -0.3878369 ]),\n",
       " 'split2_test_score': array([-0.66293438, -0.85654457, -0.36399895, -0.56456293, -0.21383621,\n",
       "        -0.33587067]),\n",
       " 'split3_test_score': array([-0.60606648, -0.71206146, -0.37019043, -0.52278496, -0.22041623,\n",
       "        -0.25711531]),\n",
       " 'split4_test_score': array([-0.72811244, -0.77456039, -0.44825577, -0.50832954, -0.27661528,\n",
       "        -0.33402337]),\n",
       " 'split5_test_score': array([-1.01115791, -1.05239889, -0.66583876, -0.81100296, -0.40971943,\n",
       "        -0.51597482]),\n",
       " 'split6_test_score': array([-0.76116202, -0.82748918, -0.50729845, -0.62794307, -0.32564234,\n",
       "        -0.41166616]),\n",
       " 'split7_test_score': array([-0.91950891, -0.97315963, -0.6239811 , -0.7212908 , -0.38231173,\n",
       "        -0.44975039]),\n",
       " 'split8_test_score': array([-0.96380869, -0.97930997, -0.6742166 , -0.90768509, -0.42253796,\n",
       "        -0.46126307]),\n",
       " 'split9_test_score': array([-0.9449031 , -1.03040546, -0.67155794, -0.69800661, -0.44065432,\n",
       "        -0.48979025]),\n",
       " 'mean_test_score': array([-0.83607678, -0.91096124, -0.55212295, -0.6897172 , -0.34464147,\n",
       "        -0.42092156]),\n",
       " 'std_test_score': array([0.138518  , 0.11705438, 0.12263205, 0.13005672, 0.08411128,\n",
       "        0.08947634]),\n",
       " 'rank_test_score': array([5, 6, 3, 4, 1, 2], dtype=int32)}"
      ]
     },
     "execution_count": 8,
     "metadata": {},
     "output_type": "execute_result"
    }
   ],
   "source": [
    "print(\"GridSearch results:\")\n",
    "grid_search.cv_results_"
   ]
  },
  {
   "cell_type": "code",
   "execution_count": 9,
   "id": "c68ebcbb-f36a-4cbb-96cf-c79dccfa1ccd",
   "metadata": {},
   "outputs": [],
   "source": [
    "with open(\"../grids/grid_search_decision_tree_regressor_01.pkl\", mode=\"wb\") as f:\n",
    "    pickle.dump(grid_search, f)"
   ]
  },
  {
   "cell_type": "code",
   "execution_count": 10,
   "id": "fbf41873-8763-4ea0-a574-4cf6872fcd83",
   "metadata": {},
   "outputs": [],
   "source": [
    "best_regressor = grid_search.best_estimator_"
   ]
  },
  {
   "cell_type": "code",
   "execution_count": 31,
   "id": "abaedf04-4fd5-44e3-97c6-ce425e9d5341",
   "metadata": {},
   "outputs": [
    {
     "name": "stdout",
     "output_type": "stream",
     "text": [
      "Best regressor DecisionTreeRegressor(max_depth=12)\n"
     ]
    }
   ],
   "source": [
    "print(\"Best regressor\", best_regressor)"
   ]
  },
  {
   "cell_type": "code",
   "execution_count": 32,
   "id": "100d022c-ecb0-4bd6-89c1-f314ba366e76",
   "metadata": {},
   "outputs": [],
   "source": [
    "with open(\"../models/model_decision_tree_regressor_01.pkl\", mode=\"wb\") as f:\n",
    "    pickle.dump(best_regressor, f)"
   ]
  },
  {
   "cell_type": "code",
   "execution_count": 33,
   "id": "2963bc69-806d-4c83-b09a-9f61622a8569",
   "metadata": {},
   "outputs": [],
   "source": [
    "y_hat = best_regressor.predict(X)"
   ]
  },
  {
   "cell_type": "code",
   "execution_count": 34,
   "id": "a3829bcc-8a12-4a0e-888a-b8449664f5c4",
   "metadata": {},
   "outputs": [
    {
     "name": "stdout",
     "output_type": "stream",
     "text": [
      "R2 Score: 0.673\n",
      "MSE: 0.327\n"
     ]
    }
   ],
   "source": [
    "r2 = r2_score(y, y_hat)\n",
    "mse = mean_squared_error(y, y_hat)\n",
    "\n",
    "print(f\"R2 Score: {r2:.3f}\")\n",
    "print(f\"MSE: {mse:.3f}\")"
   ]
  }
 ],
 "metadata": {
  "kernelspec": {
   "display_name": "Python 3 (ipykernel)",
   "language": "python",
   "name": "python3"
  },
  "language_info": {
   "codemirror_mode": {
    "name": "ipython",
    "version": 3
   },
   "file_extension": ".py",
   "mimetype": "text/x-python",
   "name": "python",
   "nbconvert_exporter": "python",
   "pygments_lexer": "ipython3",
   "version": "3.10.2"
  }
 },
 "nbformat": 4,
 "nbformat_minor": 5
}
