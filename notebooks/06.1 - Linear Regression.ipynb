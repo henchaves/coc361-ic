{
 "cells": [
  {
   "cell_type": "code",
   "execution_count": 1,
   "id": "e7273394-b106-415e-b923-b8ac911b4d3b",
   "metadata": {},
   "outputs": [],
   "source": [
    "import numpy as np\n",
    "from sklearn.linear_model import LinearRegression\n",
    "from sklearn.model_selection import GridSearchCV\n",
    "from sklearn.metrics import r2_score, mean_squared_error\n",
    "import pickle"
   ]
  },
  {
   "cell_type": "code",
   "execution_count": 2,
   "id": "5c8c8897-7ff9-42a7-955f-d9b6e4651843",
   "metadata": {},
   "outputs": [],
   "source": [
    "X = np.load(\"../data/X_train_scaled.npy\", allow_pickle=True)\n",
    "y = np.load(\"../data/y_train_scaled.npy\", allow_pickle=True)"
   ]
  },
  {
   "cell_type": "code",
   "execution_count": 3,
   "id": "f699cb19-cc74-4c54-a6ca-1c8eda6ae335",
   "metadata": {},
   "outputs": [
    {
     "name": "stdout",
     "output_type": "stream",
     "text": [
      "X shape: (3104579, 26)\n",
      "y shape: (3104579, 1)\n"
     ]
    }
   ],
   "source": [
    "print(\"X shape:\", X.shape)\n",
    "print(\"y shape:\", y.shape)"
   ]
  },
  {
   "cell_type": "code",
   "execution_count": 4,
   "id": "5a2a44dd-1ea4-4169-8b24-7a06d6c3e6ae",
   "metadata": {},
   "outputs": [],
   "source": [
    "regressor = LinearRegression()"
   ]
  },
  {
   "cell_type": "code",
   "execution_count": 5,
   "id": "6fadaf14-56b2-4daa-90d1-fb6913d0c82f",
   "metadata": {},
   "outputs": [],
   "source": [
    "param_grid = {}"
   ]
  },
  {
   "cell_type": "code",
   "execution_count": 7,
   "id": "27d4a3e2-c00b-4cb9-bca2-e9d52b746e86",
   "metadata": {},
   "outputs": [],
   "source": [
    "grid_search = GridSearchCV(\n",
    "    regressor,\n",
    "    param_grid,\n",
    "    scoring=\"neg_mean_squared_error\",\n",
    "    cv=10,\n",
    "    verbose=False\n",
    ")"
   ]
  },
  {
   "cell_type": "code",
   "execution_count": 8,
   "id": "8d7c1302-7ee2-4992-9554-7518fb0cb453",
   "metadata": {},
   "outputs": [
    {
     "data": {
      "text/plain": [
       "GridSearchCV(cv=10, estimator=LinearRegression(), param_grid={},\n",
       "             scoring='neg_mean_squared_error', verbose=False)"
      ]
     },
     "execution_count": 8,
     "metadata": {},
     "output_type": "execute_result"
    }
   ],
   "source": [
    "np.random.seed(2907)\n",
    "grid_search.fit(X, y)"
   ]
  },
  {
   "cell_type": "code",
   "execution_count": 9,
   "id": "c2be43c4-834f-47e4-b748-40d8fb57a874",
   "metadata": {},
   "outputs": [
    {
     "name": "stdout",
     "output_type": "stream",
     "text": [
      "GridSearch results:\n"
     ]
    },
    {
     "data": {
      "text/plain": [
       "{'mean_fit_time': array([2.28739893]),\n",
       " 'std_fit_time': array([0.04183615]),\n",
       " 'mean_score_time': array([0.0078469]),\n",
       " 'std_score_time': array([0.00050785]),\n",
       " 'params': [{}],\n",
       " 'split0_test_score': array([-0.45167504]),\n",
       " 'split1_test_score': array([-0.34451623]),\n",
       " 'split2_test_score': array([-0.28017544]),\n",
       " 'split3_test_score': array([-0.30239897]),\n",
       " 'split4_test_score': array([-0.34334178]),\n",
       " 'split5_test_score': array([-0.45629733]),\n",
       " 'split6_test_score': array([-0.37109504]),\n",
       " 'split7_test_score': array([-0.43452845]),\n",
       " 'split8_test_score': array([-0.45180146]),\n",
       " 'split9_test_score': array([-0.45359976]),\n",
       " 'mean_test_score': array([-0.38894295]),\n",
       " 'std_test_score': array([0.06509504]),\n",
       " 'rank_test_score': array([1], dtype=int32)}"
      ]
     },
     "execution_count": 9,
     "metadata": {},
     "output_type": "execute_result"
    }
   ],
   "source": [
    "print(\"GridSearch results:\")\n",
    "grid_search.cv_results_"
   ]
  },
  {
   "cell_type": "code",
   "execution_count": 10,
   "id": "6e7e4a0c-eea0-47e0-8d35-bb28365e5ef6",
   "metadata": {},
   "outputs": [],
   "source": [
    "with open(\"../grids/grid_search_linear_regressor_01.pkl\", mode=\"wb\") as f:\n",
    "    pickle.dump(grid_search, f)"
   ]
  },
  {
   "cell_type": "code",
   "execution_count": 11,
   "id": "fbf41873-8763-4ea0-a574-4cf6872fcd83",
   "metadata": {},
   "outputs": [],
   "source": [
    "best_regressor = grid_search.best_estimator_"
   ]
  },
  {
   "cell_type": "code",
   "execution_count": 12,
   "id": "abaedf04-4fd5-44e3-97c6-ce425e9d5341",
   "metadata": {},
   "outputs": [
    {
     "name": "stdout",
     "output_type": "stream",
     "text": [
      "Best regressor:\n",
      "Coefs.: [[-3.58912425e+11  8.24859619e-01  5.18072491e-01  1.29200288e+11\n",
      "   6.57992688e+00  1.65438003e+12 -1.56862265e+12 -1.41916092e-01\n",
      "   5.34514167e+00 -1.82981851e-01  2.43634953e-01 -1.84599488e-01\n",
      "   8.54979997e-01  8.98692457e-01 -9.47956903e-01  8.46490784e-01\n",
      "  -6.18534635e-01 -2.11881714e+01 -1.02964826e+01 -9.74768829e+00\n",
      "  -4.57653618e+00 -6.30145609e-01 -6.67421341e-01 -2.30918121e+00\n",
      "  -1.78938103e+00  8.77685547e-02]]\n",
      "Intercept: [0.00432633]\n"
     ]
    }
   ],
   "source": [
    "print(\"Best regressor:\", )\n",
    "print(\"Coefs.:\", best_regressor.coef_)\n",
    "print(\"Intercept:\", best_regressor.intercept_)"
   ]
  },
  {
   "cell_type": "code",
   "execution_count": 13,
   "id": "100d022c-ecb0-4bd6-89c1-f314ba366e76",
   "metadata": {},
   "outputs": [],
   "source": [
    "with open(\"../models/model_linear_regressor_01.pkl\", mode=\"wb\") as f:\n",
    "    pickle.dump(best_regressor, f)"
   ]
  },
  {
   "cell_type": "code",
   "execution_count": 14,
   "id": "2963bc69-806d-4c83-b09a-9f61622a8569",
   "metadata": {},
   "outputs": [],
   "source": [
    "y_hat = best_regressor.predict(X)"
   ]
  },
  {
   "cell_type": "code",
   "execution_count": 15,
   "id": "a3829bcc-8a12-4a0e-888a-b8449664f5c4",
   "metadata": {},
   "outputs": [
    {
     "name": "stdout",
     "output_type": "stream",
     "text": [
      "R2 Score: 0.615\n",
      "MSE: 0.385\n"
     ]
    }
   ],
   "source": [
    "r2 = r2_score(y, y_hat)\n",
    "mse = mean_squared_error(y, y_hat)\n",
    "\n",
    "print(f\"R2 Score: {r2:.3f}\")\n",
    "print(f\"MSE: {mse:.3f}\")"
   ]
  }
 ],
 "metadata": {
  "kernelspec": {
   "display_name": "Python 3 (ipykernel)",
   "language": "python",
   "name": "python3"
  },
  "language_info": {
   "codemirror_mode": {
    "name": "ipython",
    "version": 3
   },
   "file_extension": ".py",
   "mimetype": "text/x-python",
   "name": "python",
   "nbconvert_exporter": "python",
   "pygments_lexer": "ipython3",
   "version": "3.10.2"
  }
 },
 "nbformat": 4,
 "nbformat_minor": 5
}
