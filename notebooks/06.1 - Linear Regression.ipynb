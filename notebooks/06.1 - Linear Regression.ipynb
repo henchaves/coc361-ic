{
 "cells": [
  {
   "cell_type": "code",
   "execution_count": null,
   "id": "e7273394-b106-415e-b923-b8ac911b4d3b",
   "metadata": {},
   "outputs": [],
   "source": [
    "import numpy as np\n",
    "from sklearn.linear_model import LinearRegression\n",
    "from sklearn.model_selection import GridSearchCV\n",
    "from sklearn.metrics import r2_score, mean_squared_error\n",
    "import pickle"
   ]
  },
  {
   "cell_type": "code",
   "execution_count": null,
   "id": "5c8c8897-7ff9-42a7-955f-d9b6e4651843",
   "metadata": {},
   "outputs": [],
   "source": [
    "X = np.load(\"../data/X_train_scaled.npy\", allow_pickle=True)\n",
    "y = np.load(\"../data/y_train_scaled.npy\", allow_pickle=True)"
   ]
  },
  {
   "cell_type": "code",
   "execution_count": null,
   "id": "f699cb19-cc74-4c54-a6ca-1c8eda6ae335",
   "metadata": {},
   "outputs": [
    {
     "name": "stdout",
     "output_type": "stream",
     "text": [
      "X shape: (3104579, 26)\n",
      "y shape: (3104579, 1)\n"
     ]
    }
   ],
   "source": [
    "print(\"X shape:\", X.shape)\n",
    "print(\"y shape:\", y.shape)"
   ]
  },
  {
   "cell_type": "code",
   "execution_count": null,
   "id": "5a2a44dd-1ea4-4169-8b24-7a06d6c3e6ae",
   "metadata": {},
   "outputs": [],
   "source": [
    "regressor = LinearRegression()"
   ]
  },
  {
   "cell_type": "code",
   "execution_count": null,
   "id": "6fadaf14-56b2-4daa-90d1-fb6913d0c82f",
   "metadata": {},
   "outputs": [],
   "source": [
    "param_grid = {}"
   ]
  },
  {
   "cell_type": "code",
   "execution_count": null,
   "id": "27d4a3e2-c00b-4cb9-bca2-e9d52b746e86",
   "metadata": {},
   "outputs": [],
   "source": [
    "grid_search = GridSearchCV(\n",
    "    regressor,\n",
    "    param_grid,\n",
    "    scoring=[\n",
    "        \"r2\",\n",
    "        \"neg_mean_squared_error\"\n",
    "    ],\n",
    "    refit=\"r2\",\n",
    "    cv=10,\n",
    "    n_jobs=5,\n",
    "    verbose=True\n",
    ")"
   ]
  },
  {
   "cell_type": "code",
   "execution_count": null,
   "id": "8d7c1302-7ee2-4992-9554-7518fb0cb453",
   "metadata": {},
   "outputs": [
    {
     "name": "stdout",
     "output_type": "stream",
     "text": [
      "Fitting 10 folds for each of 1 candidates, totalling 10 fits\n"
     ]
    },
    {
     "data": {
      "text/plain": [
       "GridSearchCV(cv=10, estimator=LinearRegression(), n_jobs=5, param_grid={},\n",
       "             refit='r2', scoring=['r2', 'neg_mean_squared_error'],\n",
       "             verbose=True)"
      ]
     },
     "execution_count": 7,
     "metadata": {},
     "output_type": "execute_result"
    }
   ],
   "source": [
    "np.random.seed(2907)\n",
    "grid_search.fit(X, y)"
   ]
  },
  {
   "cell_type": "code",
   "execution_count": null,
   "id": "c2be43c4-834f-47e4-b748-40d8fb57a874",
   "metadata": {},
   "outputs": [
    {
     "name": "stdout",
     "output_type": "stream",
     "text": [
      "GridSearch results:\n"
     ]
    },
    {
     "data": {
      "text/plain": [
       "{'mean_fit_time': array([7.98677826]),\n",
       " 'std_fit_time': array([0.17703462]),\n",
       " 'mean_score_time': array([0.03379705]),\n",
       " 'std_score_time': array([0.00810202]),\n",
       " 'params': [{}],\n",
       " 'split0_test_r2': array([0.55734423]),\n",
       " 'split1_test_r2': array([0.6234702]),\n",
       " 'split2_test_r2': array([0.66434417]),\n",
       " 'split3_test_r2': array([0.62344688]),\n",
       " 'split4_test_r2': array([0.59631857]),\n",
       " 'split5_test_r2': array([0.61960196]),\n",
       " 'split6_test_r2': array([0.5793328]),\n",
       " 'split7_test_r2': array([0.59254723]),\n",
       " 'split8_test_r2': array([0.59526889]),\n",
       " 'split9_test_r2': array([0.58366517]),\n",
       " 'mean_test_r2': array([0.60353401]),\n",
       " 'std_test_r2': array([0.02846942]),\n",
       " 'rank_test_r2': array([1]),\n",
       " 'split0_test_neg_mean_squared_error': array([-0.45157184]),\n",
       " 'split1_test_neg_mean_squared_error': array([-0.34449367]),\n",
       " 'split2_test_neg_mean_squared_error': array([-0.28011243]),\n",
       " 'split3_test_neg_mean_squared_error': array([-0.30242592]),\n",
       " 'split4_test_neg_mean_squared_error': array([-0.3432773]),\n",
       " 'split5_test_neg_mean_squared_error': array([-0.45632856]),\n",
       " 'split6_test_neg_mean_squared_error': array([-0.37113719]),\n",
       " 'split7_test_neg_mean_squared_error': array([-0.43452657]),\n",
       " 'split8_test_neg_mean_squared_error': array([-0.45177965]),\n",
       " 'split9_test_neg_mean_squared_error': array([-0.45356838]),\n",
       " 'mean_test_neg_mean_squared_error': array([-0.38892215]),\n",
       " 'std_test_neg_mean_squared_error': array([0.06509483]),\n",
       " 'rank_test_neg_mean_squared_error': array([1])}"
      ]
     },
     "execution_count": 8,
     "metadata": {},
     "output_type": "execute_result"
    }
   ],
   "source": [
    "print(\"GridSearch results:\")\n",
    "grid_search.cv_results_"
   ]
  },
  {
   "cell_type": "code",
   "execution_count": null,
   "id": "fbf41873-8763-4ea0-a574-4cf6872fcd83",
   "metadata": {},
   "outputs": [],
   "source": [
    "best_regressor = grid_search.best_estimator_"
   ]
  },
  {
   "cell_type": "code",
   "execution_count": null,
   "id": "abaedf04-4fd5-44e3-97c6-ce425e9d5341",
   "metadata": {},
   "outputs": [
    {
     "name": "stdout",
     "output_type": "stream",
     "text": [
      "Best regressor: 0\n",
      "Coefs.: [[ 3.82853636e+06  1.25548606e+00  3.39402417e-01 -1.37816748e+06\n",
      "   6.79869531e+00 -1.76473721e+07  1.67325823e+07 -1.41520074e-01\n",
      "   5.39203402e+00 -1.83283594e-01  2.43321632e-01 -1.83969530e-01\n",
      "   8.55868815e-01  8.99826459e-01 -9.48991738e-01  8.47317333e-01\n",
      "  -6.16477212e-01 -2.11255026e+01 -1.02712088e+01 -9.72839839e+00\n",
      "  -4.56980226e+00 -6.27713645e-01 -6.65224032e-01 -2.30389706e+00\n",
      "  -1.78554706e+00  8.89182598e-02]]\n",
      "Intercept: [-4.61491303e-08]\n"
     ]
    }
   ],
   "source": [
    "print(\"Best regressor:\", )\n",
    "print(\"Coefs.:\", best_regressor.coef_)\n",
    "print(\"Intercept:\", best_regressor.intercept_)"
   ]
  },
  {
   "cell_type": "code",
   "execution_count": null,
   "id": "100d022c-ecb0-4bd6-89c1-f314ba366e76",
   "metadata": {},
   "outputs": [],
   "source": [
    "with open(\"../models/linear_regressor_01.pkl\", mode=\"wb\") as f:\n",
    "    pickle.dump(best_regressor, f)"
   ]
  },
  {
   "cell_type": "code",
   "execution_count": null,
   "id": "2963bc69-806d-4c83-b09a-9f61622a8569",
   "metadata": {},
   "outputs": [],
   "source": [
    "y_hat = best_regressor.predict(X)"
   ]
  },
  {
   "cell_type": "code",
   "execution_count": null,
   "id": "a3829bcc-8a12-4a0e-888a-b8449664f5c4",
   "metadata": {},
   "outputs": [
    {
     "name": "stdout",
     "output_type": "stream",
     "text": [
      "R2 Score: 0.615\n",
      "MSE: 0.385\n"
     ]
    }
   ],
   "source": [
    "r2 = r2_score(y, y_hat)\n",
    "mse = mean_squared_error(y, y_hat)\n",
    "\n",
    "print(f\"R2 Score: {r2:.3f}\")\n",
    "print(f\"MSE: {mse:.3f}\")"
   ]
  }
 ],
 "metadata": {
  "kernelspec": {
   "display_name": "Python 3 (ipykernel)",
   "language": "python",
   "name": "python3"
  },
  "language_info": {
   "codemirror_mode": {
    "name": "ipython",
    "version": 3
   },
   "file_extension": ".py",
   "mimetype": "text/x-python",
   "name": "python",
   "nbconvert_exporter": "python",
   "pygments_lexer": "ipython3",
   "version": "3.9.7"
  }
 },
 "nbformat": 4,
 "nbformat_minor": 5
}
